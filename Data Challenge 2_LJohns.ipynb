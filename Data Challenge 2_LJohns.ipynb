{
 "cells": [
  {
   "cell_type": "code",
   "execution_count": 202,
   "metadata": {
    "collapsed": false
   },
   "outputs": [],
   "source": [
    "#Import necessary packages\n",
    "import pandas as pd\n",
    "import numpy as np\n",
    "import seaborn as sns\n",
    "%matplotlib inline\n",
    "import matplotlib.pyplot as plt\n",
    "import scipy.stats #for chi-squared\n",
    "import lifelines as sa\n",
    "from lifelines.utils import concordance_index, k_fold_cross_validation"
   ]
  },
  {
   "cell_type": "code",
   "execution_count": 203,
   "metadata": {
    "collapsed": false
   },
   "outputs": [],
   "source": [
    "#Import data as pd dataframe; make sure company_id and employee_id are imported as int\n",
    "employee = pd.read_csv(\"/home/lauren/Downloads/employee_retention_data.csv\", dtype={\"company_id\": int, \"employee_id\": int})"
   ]
  },
  {
   "cell_type": "markdown",
   "metadata": {},
   "source": [
    "# Question #1 : Estimate employee headcount, for each company, on each day, from 2011/01/24 to 2015/12/13."
   ]
  },
  {
   "cell_type": "code",
   "execution_count": 204,
   "metadata": {
    "collapsed": false
   },
   "outputs": [
    {
     "data": {
      "text/html": [
       "<div>\n",
       "<table border=\"1\" class=\"dataframe\">\n",
       "  <thead>\n",
       "    <tr style=\"text-align: right;\">\n",
       "      <th></th>\n",
       "      <th>employee_id</th>\n",
       "      <th>company_id</th>\n",
       "      <th>dept</th>\n",
       "      <th>seniority</th>\n",
       "      <th>salary</th>\n",
       "      <th>join_date</th>\n",
       "      <th>quit_date</th>\n",
       "    </tr>\n",
       "  </thead>\n",
       "  <tbody>\n",
       "    <tr>\n",
       "      <th>0</th>\n",
       "      <td>13021</td>\n",
       "      <td>7</td>\n",
       "      <td>customer_service</td>\n",
       "      <td>28</td>\n",
       "      <td>89000.0</td>\n",
       "      <td>2014-03-24</td>\n",
       "      <td>2015-10-30</td>\n",
       "    </tr>\n",
       "    <tr>\n",
       "      <th>1</th>\n",
       "      <td>825355</td>\n",
       "      <td>7</td>\n",
       "      <td>marketing</td>\n",
       "      <td>20</td>\n",
       "      <td>183000.0</td>\n",
       "      <td>2013-04-29</td>\n",
       "      <td>2014-04-04</td>\n",
       "    </tr>\n",
       "    <tr>\n",
       "      <th>2</th>\n",
       "      <td>927315</td>\n",
       "      <td>4</td>\n",
       "      <td>marketing</td>\n",
       "      <td>14</td>\n",
       "      <td>101000.0</td>\n",
       "      <td>2014-10-13</td>\n",
       "      <td>NaN</td>\n",
       "    </tr>\n",
       "    <tr>\n",
       "      <th>3</th>\n",
       "      <td>662910</td>\n",
       "      <td>7</td>\n",
       "      <td>customer_service</td>\n",
       "      <td>20</td>\n",
       "      <td>115000.0</td>\n",
       "      <td>2012-05-14</td>\n",
       "      <td>2013-06-07</td>\n",
       "    </tr>\n",
       "    <tr>\n",
       "      <th>4</th>\n",
       "      <td>256971</td>\n",
       "      <td>2</td>\n",
       "      <td>data_science</td>\n",
       "      <td>23</td>\n",
       "      <td>276000.0</td>\n",
       "      <td>2011-10-17</td>\n",
       "      <td>2014-08-22</td>\n",
       "    </tr>\n",
       "  </tbody>\n",
       "</table>\n",
       "</div>"
      ],
      "text/plain": [
       "   employee_id  company_id              dept  seniority    salary   join_date  \\\n",
       "0        13021           7  customer_service         28   89000.0  2014-03-24   \n",
       "1       825355           7         marketing         20  183000.0  2013-04-29   \n",
       "2       927315           4         marketing         14  101000.0  2014-10-13   \n",
       "3       662910           7  customer_service         20  115000.0  2012-05-14   \n",
       "4       256971           2      data_science         23  276000.0  2011-10-17   \n",
       "\n",
       "    quit_date  \n",
       "0  2015-10-30  \n",
       "1  2014-04-04  \n",
       "2         NaN  \n",
       "3  2013-06-07  \n",
       "4  2014-08-22  "
      ]
     },
     "execution_count": 204,
     "metadata": {},
     "output_type": "execute_result"
    }
   ],
   "source": [
    "#Inspect data\n",
    "employee.head()"
   ]
  },
  {
   "cell_type": "code",
   "execution_count": 205,
   "metadata": {
    "collapsed": false
   },
   "outputs": [
    {
     "data": {
      "text/plain": [
       "dtype('O')"
      ]
     },
     "execution_count": 205,
     "metadata": {},
     "output_type": "execute_result"
    }
   ],
   "source": [
    "#Inspect dates to see if strings\n",
    "employee[\"join_date\"].dtype #string because it's an object ('0') in pandas"
   ]
  },
  {
   "cell_type": "code",
   "execution_count": 206,
   "metadata": {
    "collapsed": false
   },
   "outputs": [
    {
     "name": "stdout",
     "output_type": "stream",
     "text": [
      "0   2014-03-24\n",
      "1   2013-04-29\n",
      "2   2014-10-13\n",
      "3   2012-05-14\n",
      "4   2011-10-17\n",
      "Name: join_date, dtype: datetime64[ns]\n",
      "0   2015-10-30\n",
      "1   2014-04-04\n",
      "2          NaT\n",
      "3   2013-06-07\n",
      "4   2014-08-22\n",
      "Name: quit_date, dtype: datetime64[ns]\n"
     ]
    }
   ],
   "source": [
    "#Convert pandas string of dates to datetime \n",
    "employee['join_date'] = pd.to_datetime(employee['join_date'], format=\"%Y-%m-%d\")\n",
    "employee['quit_date'] = pd.to_datetime(employee['quit_date'], format=\"%Y-%m-%d\")\n",
    "\n",
    "#See if converted correctly\n",
    "s = employee['join_date']\n",
    "print s[:5]\n",
    "\n",
    "t= employee['quit_date']\n",
    "print t[:5]"
   ]
  },
  {
   "cell_type": "code",
   "execution_count": 207,
   "metadata": {
    "collapsed": false
   },
   "outputs": [
    {
     "data": {
      "text/plain": [
       "employee_id        0\n",
       "company_id         0\n",
       "dept               0\n",
       "seniority          0\n",
       "salary             0\n",
       "join_date          0\n",
       "quit_date      11192\n",
       "dtype: int64"
      ]
     },
     "execution_count": 207,
     "metadata": {},
     "output_type": "execute_result"
    }
   ],
   "source": [
    "#See number of missing quit_date\n",
    "employee.isnull().sum() #11,192 missing quit date (=> didn't quit yet or dropped out)"
   ]
  },
  {
   "cell_type": "code",
   "execution_count": 208,
   "metadata": {
    "collapsed": false
   },
   "outputs": [
    {
     "data": {
      "text/plain": [
       "(24702, 7)"
      ]
     },
     "execution_count": 208,
     "metadata": {},
     "output_type": "execute_result"
    }
   ],
   "source": [
    "#See total N\n",
    "employee.shape #N=24,702"
   ]
  },
  {
   "cell_type": "code",
   "execution_count": 209,
   "metadata": {
    "collapsed": false
   },
   "outputs": [
    {
     "data": {
      "text/plain": [
       "DatetimeIndex(['2011-01-25', '2011-01-26', '2011-01-27', '2011-01-28',\n",
       "               '2011-01-31', '2011-02-01', '2011-02-02', '2011-02-03',\n",
       "               '2011-02-04'],\n",
       "              dtype='datetime64[ns]', freq='B')"
      ]
     },
     "execution_count": 209,
     "metadata": {},
     "output_type": "execute_result"
    }
   ],
   "source": [
    "#Create date range beginning on 2011-01-23 to 2015-12-13\n",
    "date1 = '2011-01-23'\n",
    "date2 = '2015-12-13'\n",
    "#Create data ranges using \"bdate\" --> business day\n",
    "mydates = pd.bdate_range(date1, date2)\n",
    "mydates[1:10]"
   ]
  },
  {
   "cell_type": "code",
   "execution_count": 210,
   "metadata": {
    "collapsed": false
   },
   "outputs": [
    {
     "name": "stdout",
     "output_type": "stream",
     "text": [
      "DatetimeIndex(['2011-01-25', '2011-01-26', '2011-01-27', '2011-01-28',\n",
      "               '2011-01-31', '2011-02-01', '2011-02-02', '2011-02-03',\n",
      "               '2011-02-04'],\n",
      "              dtype='datetime64[ns]', freq='B')\n"
     ]
    }
   ],
   "source": [
    "#Make sure dates are in datetime for manipulation\n",
    "mydates = pd.to_datetime(mydates, format=\"%Y-%m-%d\")\n",
    "print mydates[1:10]"
   ]
  },
  {
   "cell_type": "code",
   "execution_count": 211,
   "metadata": {
    "collapsed": false
   },
   "outputs": [
    {
     "data": {
      "text/html": [
       "<div>\n",
       "<table border=\"1\" class=\"dataframe\">\n",
       "  <thead>\n",
       "    <tr style=\"text-align: right;\">\n",
       "      <th></th>\n",
       "      <th>company_id</th>\n",
       "      <th>join_date</th>\n",
       "      <th>join_count</th>\n",
       "    </tr>\n",
       "  </thead>\n",
       "  <tbody>\n",
       "    <tr>\n",
       "      <th>0</th>\n",
       "      <td>1</td>\n",
       "      <td>2011-01-24</td>\n",
       "      <td>25</td>\n",
       "    </tr>\n",
       "    <tr>\n",
       "      <th>1</th>\n",
       "      <td>1</td>\n",
       "      <td>2011-01-25</td>\n",
       "      <td>2</td>\n",
       "    </tr>\n",
       "    <tr>\n",
       "      <th>2</th>\n",
       "      <td>1</td>\n",
       "      <td>2011-01-26</td>\n",
       "      <td>2</td>\n",
       "    </tr>\n",
       "    <tr>\n",
       "      <th>3</th>\n",
       "      <td>1</td>\n",
       "      <td>2011-01-31</td>\n",
       "      <td>30</td>\n",
       "    </tr>\n",
       "    <tr>\n",
       "      <th>4</th>\n",
       "      <td>1</td>\n",
       "      <td>2011-02-01</td>\n",
       "      <td>7</td>\n",
       "    </tr>\n",
       "  </tbody>\n",
       "</table>\n",
       "</div>"
      ],
      "text/plain": [
       "   company_id  join_date  join_count\n",
       "0           1 2011-01-24          25\n",
       "1           1 2011-01-25           2\n",
       "2           1 2011-01-26           2\n",
       "3           1 2011-01-31          30\n",
       "4           1 2011-02-01           7"
      ]
     },
     "execution_count": 211,
     "metadata": {},
     "output_type": "execute_result"
    }
   ],
   "source": [
    "#Create dataframe from groupby output\n",
    "#Count number of people who joined (i.e., # of repeated dates for each join date, by company_id)\n",
    "joinct = pd.DataFrame(employee.groupby([\"company_id\", \"join_date\"]).size().reset_index(name=\"join_count\"))\n",
    "joinct.head()"
   ]
  },
  {
   "cell_type": "code",
   "execution_count": 212,
   "metadata": {
    "collapsed": false
   },
   "outputs": [
    {
     "name": "stdout",
     "output_type": "stream",
     "text": [
      "0   2011-01-24\n",
      "1   2011-01-25\n",
      "2   2011-01-26\n",
      "3   2011-01-31\n",
      "4   2011-02-01\n",
      "Name: join_date, dtype: datetime64[ns]\n"
     ]
    }
   ],
   "source": [
    "#To be safe, convert join_date to datetime\n",
    "joinct['join_date'] = pd.to_datetime(joinct['join_date'], format=\"%Y-%m-%d\")\n",
    "\n",
    "#See if converted correctly\n",
    "s = joinct['join_date']\n",
    "print s[:5]"
   ]
  },
  {
   "cell_type": "code",
   "execution_count": 213,
   "metadata": {
    "collapsed": false
   },
   "outputs": [
    {
     "name": "stderr",
     "output_type": "stream",
     "text": [
      "/home/lauren/anaconda2/envs/my_projects_env/lib/python2.7/site-packages/ipykernel/__main__.py:2: FutureWarning: sort(columns=....) is deprecated, use sort_values(by=.....)\n",
      "  from ipykernel import kernelapp as app\n"
     ]
    },
    {
     "data": {
      "text/html": [
       "<div>\n",
       "<table border=\"1\" class=\"dataframe\">\n",
       "  <thead>\n",
       "    <tr style=\"text-align: right;\">\n",
       "      <th></th>\n",
       "      <th>company_id</th>\n",
       "      <th>join_date</th>\n",
       "      <th>join_count</th>\n",
       "    </tr>\n",
       "  </thead>\n",
       "  <tbody>\n",
       "    <tr>\n",
       "      <th>0</th>\n",
       "      <td>1</td>\n",
       "      <td>2011-01-24</td>\n",
       "      <td>25</td>\n",
       "    </tr>\n",
       "    <tr>\n",
       "      <th>1</th>\n",
       "      <td>1</td>\n",
       "      <td>2011-01-25</td>\n",
       "      <td>2</td>\n",
       "    </tr>\n",
       "    <tr>\n",
       "      <th>2</th>\n",
       "      <td>1</td>\n",
       "      <td>2011-01-26</td>\n",
       "      <td>2</td>\n",
       "    </tr>\n",
       "    <tr>\n",
       "      <th>3</th>\n",
       "      <td>1</td>\n",
       "      <td>2011-01-31</td>\n",
       "      <td>30</td>\n",
       "    </tr>\n",
       "    <tr>\n",
       "      <th>4</th>\n",
       "      <td>1</td>\n",
       "      <td>2011-02-01</td>\n",
       "      <td>7</td>\n",
       "    </tr>\n",
       "  </tbody>\n",
       "</table>\n",
       "</div>"
      ],
      "text/plain": [
       "   company_id  join_date  join_count\n",
       "0           1 2011-01-24          25\n",
       "1           1 2011-01-25           2\n",
       "2           1 2011-01-26           2\n",
       "3           1 2011-01-31          30\n",
       "4           1 2011-02-01           7"
      ]
     },
     "execution_count": 213,
     "metadata": {},
     "output_type": "execute_result"
    }
   ],
   "source": [
    "#Sort join dataset by company_id and join_date\n",
    "joinct_2 = joinct.sort(['company_id','join_date'])\n",
    "joinct_2.head()"
   ]
  },
  {
   "cell_type": "code",
   "execution_count": 214,
   "metadata": {
    "collapsed": false
   },
   "outputs": [
    {
     "data": {
      "text/html": [
       "<div>\n",
       "<table border=\"1\" class=\"dataframe\">\n",
       "  <thead>\n",
       "    <tr style=\"text-align: right;\">\n",
       "      <th></th>\n",
       "      <th>company_id</th>\n",
       "      <th>join_date</th>\n",
       "      <th>join_count</th>\n",
       "    </tr>\n",
       "  </thead>\n",
       "  <tbody>\n",
       "    <tr>\n",
       "      <th>845</th>\n",
       "      <td>2</td>\n",
       "      <td>2011-01-25</td>\n",
       "      <td>2</td>\n",
       "    </tr>\n",
       "    <tr>\n",
       "      <th>846</th>\n",
       "      <td>2</td>\n",
       "      <td>2011-01-31</td>\n",
       "      <td>12</td>\n",
       "    </tr>\n",
       "    <tr>\n",
       "      <th>847</th>\n",
       "      <td>2</td>\n",
       "      <td>2011-02-01</td>\n",
       "      <td>2</td>\n",
       "    </tr>\n",
       "    <tr>\n",
       "      <th>848</th>\n",
       "      <td>2</td>\n",
       "      <td>2011-02-02</td>\n",
       "      <td>2</td>\n",
       "    </tr>\n",
       "    <tr>\n",
       "      <th>849</th>\n",
       "      <td>2</td>\n",
       "      <td>2011-02-03</td>\n",
       "      <td>1</td>\n",
       "    </tr>\n",
       "    <tr>\n",
       "      <th>850</th>\n",
       "      <td>2</td>\n",
       "      <td>2011-02-07</td>\n",
       "      <td>19</td>\n",
       "    </tr>\n",
       "    <tr>\n",
       "      <th>851</th>\n",
       "      <td>2</td>\n",
       "      <td>2011-02-08</td>\n",
       "      <td>2</td>\n",
       "    </tr>\n",
       "    <tr>\n",
       "      <th>852</th>\n",
       "      <td>2</td>\n",
       "      <td>2011-02-09</td>\n",
       "      <td>1</td>\n",
       "    </tr>\n",
       "    <tr>\n",
       "      <th>853</th>\n",
       "      <td>2</td>\n",
       "      <td>2011-02-14</td>\n",
       "      <td>14</td>\n",
       "    </tr>\n",
       "  </tbody>\n",
       "</table>\n",
       "</div>"
      ],
      "text/plain": [
       "     company_id  join_date  join_count\n",
       "845           2 2011-01-25           2\n",
       "846           2 2011-01-31          12\n",
       "847           2 2011-02-01           2\n",
       "848           2 2011-02-02           2\n",
       "849           2 2011-02-03           1\n",
       "850           2 2011-02-07          19\n",
       "851           2 2011-02-08           2\n",
       "852           2 2011-02-09           1\n",
       "853           2 2011-02-14          14"
      ]
     },
     "execution_count": 214,
     "metadata": {},
     "output_type": "execute_result"
    }
   ],
   "source": [
    "#Sample index to see if correctly constructed\n",
    "joinct_2[joinct_2['company_id'] == 2][1:10] #indexing by column"
   ]
  },
  {
   "cell_type": "code",
   "execution_count": 215,
   "metadata": {
    "collapsed": false
   },
   "outputs": [
    {
     "data": {
      "text/html": [
       "<div>\n",
       "<table border=\"1\" class=\"dataframe\">\n",
       "  <thead>\n",
       "    <tr style=\"text-align: right;\">\n",
       "      <th></th>\n",
       "      <th>company_id</th>\n",
       "      <th>date</th>\n",
       "      <th>join_count</th>\n",
       "    </tr>\n",
       "  </thead>\n",
       "  <tbody>\n",
       "    <tr>\n",
       "      <th>0</th>\n",
       "      <td>1</td>\n",
       "      <td>2011-01-24</td>\n",
       "      <td>25</td>\n",
       "    </tr>\n",
       "    <tr>\n",
       "      <th>1</th>\n",
       "      <td>1</td>\n",
       "      <td>2011-01-25</td>\n",
       "      <td>2</td>\n",
       "    </tr>\n",
       "    <tr>\n",
       "      <th>2</th>\n",
       "      <td>1</td>\n",
       "      <td>2011-01-26</td>\n",
       "      <td>2</td>\n",
       "    </tr>\n",
       "    <tr>\n",
       "      <th>3</th>\n",
       "      <td>1</td>\n",
       "      <td>2011-01-31</td>\n",
       "      <td>30</td>\n",
       "    </tr>\n",
       "    <tr>\n",
       "      <th>4</th>\n",
       "      <td>1</td>\n",
       "      <td>2011-02-01</td>\n",
       "      <td>7</td>\n",
       "    </tr>\n",
       "  </tbody>\n",
       "</table>\n",
       "</div>"
      ],
      "text/plain": [
       "   company_id       date  join_count\n",
       "0           1 2011-01-24          25\n",
       "1           1 2011-01-25           2\n",
       "2           1 2011-01-26           2\n",
       "3           1 2011-01-31          30\n",
       "4           1 2011-02-01           7"
      ]
     },
     "execution_count": 215,
     "metadata": {},
     "output_type": "execute_result"
    }
   ],
   "source": [
    "#Rename column names for merging with quit dataframe\n",
    "joinct_2.columns = ['company_id', 'date', 'join_count']\n",
    "joinct_2.head()"
   ]
  },
  {
   "cell_type": "code",
   "execution_count": 216,
   "metadata": {
    "collapsed": false
   },
   "outputs": [
    {
     "data": {
      "text/html": [
       "<div>\n",
       "<table border=\"1\" class=\"dataframe\">\n",
       "  <thead>\n",
       "    <tr style=\"text-align: right;\">\n",
       "      <th></th>\n",
       "      <th>company_id</th>\n",
       "      <th>quit_date</th>\n",
       "      <th>quit_count</th>\n",
       "    </tr>\n",
       "  </thead>\n",
       "  <tbody>\n",
       "    <tr>\n",
       "      <th>0</th>\n",
       "      <td>1</td>\n",
       "      <td>2011-10-21</td>\n",
       "      <td>1</td>\n",
       "    </tr>\n",
       "    <tr>\n",
       "      <th>1</th>\n",
       "      <td>1</td>\n",
       "      <td>2011-11-11</td>\n",
       "      <td>1</td>\n",
       "    </tr>\n",
       "    <tr>\n",
       "      <th>2</th>\n",
       "      <td>1</td>\n",
       "      <td>2011-11-22</td>\n",
       "      <td>1</td>\n",
       "    </tr>\n",
       "    <tr>\n",
       "      <th>3</th>\n",
       "      <td>1</td>\n",
       "      <td>2011-11-25</td>\n",
       "      <td>1</td>\n",
       "    </tr>\n",
       "    <tr>\n",
       "      <th>4</th>\n",
       "      <td>1</td>\n",
       "      <td>2011-12-09</td>\n",
       "      <td>1</td>\n",
       "    </tr>\n",
       "  </tbody>\n",
       "</table>\n",
       "</div>"
      ],
      "text/plain": [
       "   company_id  quit_date  quit_count\n",
       "0           1 2011-10-21           1\n",
       "1           1 2011-11-11           1\n",
       "2           1 2011-11-22           1\n",
       "3           1 2011-11-25           1\n",
       "4           1 2011-12-09           1"
      ]
     },
     "execution_count": 216,
     "metadata": {},
     "output_type": "execute_result"
    }
   ],
   "source": [
    "#Create quit dataframe the same way as you created join dataframe\n",
    "quitct = pd.DataFrame(employee.groupby(['company_id', 'quit_date']).size().reset_index(name=\"quit_count\"))\n",
    "quitct.head()"
   ]
  },
  {
   "cell_type": "code",
   "execution_count": 217,
   "metadata": {
    "collapsed": false
   },
   "outputs": [
    {
     "name": "stdout",
     "output_type": "stream",
     "text": [
      "0   2011-10-21\n",
      "1   2011-11-11\n",
      "2   2011-11-22\n",
      "3   2011-11-25\n",
      "4   2011-12-09\n",
      "Name: quit_date, dtype: datetime64[ns]\n"
     ]
    }
   ],
   "source": [
    "#Convert dates to datatime for manipulation\n",
    "quitct['quit_date'] = pd.to_datetime(quitct['quit_date'], format=\"%Y-%m-%d\")\n",
    "\n",
    "#See if converted correctly\n",
    "s2 = quitct['quit_date']\n",
    "print s2[:5]"
   ]
  },
  {
   "cell_type": "code",
   "execution_count": 218,
   "metadata": {
    "collapsed": false
   },
   "outputs": [
    {
     "name": "stderr",
     "output_type": "stream",
     "text": [
      "/home/lauren/anaconda2/envs/my_projects_env/lib/python2.7/site-packages/ipykernel/__main__.py:2: FutureWarning: sort(columns=....) is deprecated, use sort_values(by=.....)\n",
      "  from ipykernel import kernelapp as app\n"
     ]
    },
    {
     "data": {
      "text/html": [
       "<div>\n",
       "<table border=\"1\" class=\"dataframe\">\n",
       "  <thead>\n",
       "    <tr style=\"text-align: right;\">\n",
       "      <th></th>\n",
       "      <th>company_id</th>\n",
       "      <th>quit_date</th>\n",
       "      <th>quit_count</th>\n",
       "    </tr>\n",
       "  </thead>\n",
       "  <tbody>\n",
       "    <tr>\n",
       "      <th>0</th>\n",
       "      <td>1</td>\n",
       "      <td>2011-10-21</td>\n",
       "      <td>1</td>\n",
       "    </tr>\n",
       "    <tr>\n",
       "      <th>1</th>\n",
       "      <td>1</td>\n",
       "      <td>2011-11-11</td>\n",
       "      <td>1</td>\n",
       "    </tr>\n",
       "    <tr>\n",
       "      <th>2</th>\n",
       "      <td>1</td>\n",
       "      <td>2011-11-22</td>\n",
       "      <td>1</td>\n",
       "    </tr>\n",
       "    <tr>\n",
       "      <th>3</th>\n",
       "      <td>1</td>\n",
       "      <td>2011-11-25</td>\n",
       "      <td>1</td>\n",
       "    </tr>\n",
       "    <tr>\n",
       "      <th>4</th>\n",
       "      <td>1</td>\n",
       "      <td>2011-12-09</td>\n",
       "      <td>1</td>\n",
       "    </tr>\n",
       "  </tbody>\n",
       "</table>\n",
       "</div>"
      ],
      "text/plain": [
       "   company_id  quit_date  quit_count\n",
       "0           1 2011-10-21           1\n",
       "1           1 2011-11-11           1\n",
       "2           1 2011-11-22           1\n",
       "3           1 2011-11-25           1\n",
       "4           1 2011-12-09           1"
      ]
     },
     "execution_count": 218,
     "metadata": {},
     "output_type": "execute_result"
    }
   ],
   "source": [
    "#Sort quit dataframe by company_id and quit_date\n",
    "quitct_2 = quitct.sort(['company_id','quit_date'])\n",
    "quitct_2.head()"
   ]
  },
  {
   "cell_type": "code",
   "execution_count": 219,
   "metadata": {
    "collapsed": false
   },
   "outputs": [
    {
     "data": {
      "text/html": [
       "<div>\n",
       "<table border=\"1\" class=\"dataframe\">\n",
       "  <thead>\n",
       "    <tr style=\"text-align: right;\">\n",
       "      <th></th>\n",
       "      <th>company_id</th>\n",
       "      <th>date</th>\n",
       "      <th>quit_count</th>\n",
       "    </tr>\n",
       "  </thead>\n",
       "  <tbody>\n",
       "    <tr>\n",
       "      <th>0</th>\n",
       "      <td>1</td>\n",
       "      <td>2011-10-21</td>\n",
       "      <td>1</td>\n",
       "    </tr>\n",
       "    <tr>\n",
       "      <th>1</th>\n",
       "      <td>1</td>\n",
       "      <td>2011-11-11</td>\n",
       "      <td>1</td>\n",
       "    </tr>\n",
       "    <tr>\n",
       "      <th>2</th>\n",
       "      <td>1</td>\n",
       "      <td>2011-11-22</td>\n",
       "      <td>1</td>\n",
       "    </tr>\n",
       "    <tr>\n",
       "      <th>3</th>\n",
       "      <td>1</td>\n",
       "      <td>2011-11-25</td>\n",
       "      <td>1</td>\n",
       "    </tr>\n",
       "    <tr>\n",
       "      <th>4</th>\n",
       "      <td>1</td>\n",
       "      <td>2011-12-09</td>\n",
       "      <td>1</td>\n",
       "    </tr>\n",
       "  </tbody>\n",
       "</table>\n",
       "</div>"
      ],
      "text/plain": [
       "   company_id       date  quit_count\n",
       "0           1 2011-10-21           1\n",
       "1           1 2011-11-11           1\n",
       "2           1 2011-11-22           1\n",
       "3           1 2011-11-25           1\n",
       "4           1 2011-12-09           1"
      ]
     },
     "execution_count": 219,
     "metadata": {},
     "output_type": "execute_result"
    }
   ],
   "source": [
    "#Rename columns so can merge with join df by company_id and date\n",
    "quitct_2.columns = ['company_id', 'date', 'quit_count']\n",
    "quitct_2.head()"
   ]
  },
  {
   "cell_type": "code",
   "execution_count": 220,
   "metadata": {
    "collapsed": false,
    "scrolled": true
   },
   "outputs": [
    {
     "name": "stderr",
     "output_type": "stream",
     "text": [
      "/home/lauren/anaconda2/envs/my_projects_env/lib/python2.7/site-packages/ipykernel/__main__.py:3: FutureWarning: sort(columns=....) is deprecated, use sort_values(by=.....)\n",
      "  app.launch_new_instance()\n"
     ]
    },
    {
     "data": {
      "text/html": [
       "<div>\n",
       "<table border=\"1\" class=\"dataframe\">\n",
       "  <thead>\n",
       "    <tr style=\"text-align: right;\">\n",
       "      <th></th>\n",
       "      <th>company_id</th>\n",
       "      <th>date</th>\n",
       "      <th>join_count</th>\n",
       "      <th>quit_count</th>\n",
       "    </tr>\n",
       "  </thead>\n",
       "  <tbody>\n",
       "    <tr>\n",
       "      <th>1</th>\n",
       "      <td>1.0</td>\n",
       "      <td>2011-01-25</td>\n",
       "      <td>2.0</td>\n",
       "      <td>NaN</td>\n",
       "    </tr>\n",
       "    <tr>\n",
       "      <th>2</th>\n",
       "      <td>1.0</td>\n",
       "      <td>2011-01-26</td>\n",
       "      <td>2.0</td>\n",
       "      <td>NaN</td>\n",
       "    </tr>\n",
       "    <tr>\n",
       "      <th>3</th>\n",
       "      <td>1.0</td>\n",
       "      <td>2011-01-31</td>\n",
       "      <td>30.0</td>\n",
       "      <td>NaN</td>\n",
       "    </tr>\n",
       "    <tr>\n",
       "      <th>4</th>\n",
       "      <td>1.0</td>\n",
       "      <td>2011-02-01</td>\n",
       "      <td>7.0</td>\n",
       "      <td>NaN</td>\n",
       "    </tr>\n",
       "    <tr>\n",
       "      <th>5</th>\n",
       "      <td>1.0</td>\n",
       "      <td>2011-02-02</td>\n",
       "      <td>1.0</td>\n",
       "      <td>NaN</td>\n",
       "    </tr>\n",
       "    <tr>\n",
       "      <th>6</th>\n",
       "      <td>1.0</td>\n",
       "      <td>2011-02-07</td>\n",
       "      <td>32.0</td>\n",
       "      <td>NaN</td>\n",
       "    </tr>\n",
       "    <tr>\n",
       "      <th>7</th>\n",
       "      <td>1.0</td>\n",
       "      <td>2011-02-08</td>\n",
       "      <td>3.0</td>\n",
       "      <td>NaN</td>\n",
       "    </tr>\n",
       "    <tr>\n",
       "      <th>8</th>\n",
       "      <td>1.0</td>\n",
       "      <td>2011-02-09</td>\n",
       "      <td>2.0</td>\n",
       "      <td>NaN</td>\n",
       "    </tr>\n",
       "    <tr>\n",
       "      <th>9</th>\n",
       "      <td>1.0</td>\n",
       "      <td>2011-02-14</td>\n",
       "      <td>25.0</td>\n",
       "      <td>NaN</td>\n",
       "    </tr>\n",
       "  </tbody>\n",
       "</table>\n",
       "</div>"
      ],
      "text/plain": [
       "   company_id       date  join_count  quit_count\n",
       "1         1.0 2011-01-25         2.0         NaN\n",
       "2         1.0 2011-01-26         2.0         NaN\n",
       "3         1.0 2011-01-31        30.0         NaN\n",
       "4         1.0 2011-02-01         7.0         NaN\n",
       "5         1.0 2011-02-02         1.0         NaN\n",
       "6         1.0 2011-02-07        32.0         NaN\n",
       "7         1.0 2011-02-08         3.0         NaN\n",
       "8         1.0 2011-02-09         2.0         NaN\n",
       "9         1.0 2011-02-14        25.0         NaN"
      ]
     },
     "execution_count": 220,
     "metadata": {},
     "output_type": "execute_result"
    }
   ],
   "source": [
    "#Merge join and quit dfs by company_id and date --> choose outer because we want to capture all dates\n",
    "merged =  pd.merge(joinct_2, quitct_2, on=['company_id', 'date'], how = 'outer')\n",
    "merged = merged.sort(['company_id', 'date'])\n",
    "#merged[150:200]\n",
    "merged[1:10]"
   ]
  },
  {
   "cell_type": "code",
   "execution_count": 221,
   "metadata": {
    "collapsed": false,
    "scrolled": true
   },
   "outputs": [
    {
     "data": {
      "text/html": [
       "<div>\n",
       "<table border=\"1\" class=\"dataframe\">\n",
       "  <thead>\n",
       "    <tr style=\"text-align: right;\">\n",
       "      <th></th>\n",
       "      <th>company_id</th>\n",
       "      <th>date</th>\n",
       "      <th>join_count</th>\n",
       "      <th>quit_count</th>\n",
       "    </tr>\n",
       "  </thead>\n",
       "  <tbody>\n",
       "    <tr>\n",
       "      <th>0</th>\n",
       "      <td>1.0</td>\n",
       "      <td>2011-01-24</td>\n",
       "      <td>25.0</td>\n",
       "      <td>0.0</td>\n",
       "    </tr>\n",
       "    <tr>\n",
       "      <th>1</th>\n",
       "      <td>1.0</td>\n",
       "      <td>2011-01-25</td>\n",
       "      <td>2.0</td>\n",
       "      <td>0.0</td>\n",
       "    </tr>\n",
       "    <tr>\n",
       "      <th>2</th>\n",
       "      <td>1.0</td>\n",
       "      <td>2011-01-26</td>\n",
       "      <td>2.0</td>\n",
       "      <td>0.0</td>\n",
       "    </tr>\n",
       "    <tr>\n",
       "      <th>3</th>\n",
       "      <td>1.0</td>\n",
       "      <td>2011-01-31</td>\n",
       "      <td>30.0</td>\n",
       "      <td>0.0</td>\n",
       "    </tr>\n",
       "    <tr>\n",
       "      <th>4</th>\n",
       "      <td>1.0</td>\n",
       "      <td>2011-02-01</td>\n",
       "      <td>7.0</td>\n",
       "      <td>0.0</td>\n",
       "    </tr>\n",
       "    <tr>\n",
       "      <th>5</th>\n",
       "      <td>1.0</td>\n",
       "      <td>2011-02-02</td>\n",
       "      <td>1.0</td>\n",
       "      <td>0.0</td>\n",
       "    </tr>\n",
       "    <tr>\n",
       "      <th>6</th>\n",
       "      <td>1.0</td>\n",
       "      <td>2011-02-07</td>\n",
       "      <td>32.0</td>\n",
       "      <td>0.0</td>\n",
       "    </tr>\n",
       "    <tr>\n",
       "      <th>7</th>\n",
       "      <td>1.0</td>\n",
       "      <td>2011-02-08</td>\n",
       "      <td>3.0</td>\n",
       "      <td>0.0</td>\n",
       "    </tr>\n",
       "    <tr>\n",
       "      <th>8</th>\n",
       "      <td>1.0</td>\n",
       "      <td>2011-02-09</td>\n",
       "      <td>2.0</td>\n",
       "      <td>0.0</td>\n",
       "    </tr>\n",
       "    <tr>\n",
       "      <th>9</th>\n",
       "      <td>1.0</td>\n",
       "      <td>2011-02-14</td>\n",
       "      <td>25.0</td>\n",
       "      <td>0.0</td>\n",
       "    </tr>\n",
       "  </tbody>\n",
       "</table>\n",
       "</div>"
      ],
      "text/plain": [
       "   company_id       date  join_count  quit_count\n",
       "0         1.0 2011-01-24        25.0         0.0\n",
       "1         1.0 2011-01-25         2.0         0.0\n",
       "2         1.0 2011-01-26         2.0         0.0\n",
       "3         1.0 2011-01-31        30.0         0.0\n",
       "4         1.0 2011-02-01         7.0         0.0\n",
       "5         1.0 2011-02-02         1.0         0.0\n",
       "6         1.0 2011-02-07        32.0         0.0\n",
       "7         1.0 2011-02-08         3.0         0.0\n",
       "8         1.0 2011-02-09         2.0         0.0\n",
       "9         1.0 2011-02-14        25.0         0.0"
      ]
     },
     "execution_count": 221,
     "metadata": {},
     "output_type": "execute_result"
    }
   ],
   "source": [
    "#Will be a surplus of join dates because not everyone quit by the end of study period --> thus, need to fill in missing with 0\n",
    "merged2 = merged.fillna(0)\n",
    "merged2[:10]"
   ]
  },
  {
   "cell_type": "code",
   "execution_count": 222,
   "metadata": {
    "collapsed": false,
    "scrolled": true
   },
   "outputs": [
    {
     "name": "stdout",
     "output_type": "stream",
     "text": [
      "      company_id       date  join_count  quit_count  net\n",
      "3098         6.0 2011-01-31         7.0         0.0  7.0\n",
      "3099         6.0 2011-02-01         1.0         0.0  1.0\n",
      "3100         6.0 2011-02-07         4.0         0.0  4.0\n",
      "3101         6.0 2011-02-14         6.0         0.0  6.0\n",
      "3102         6.0 2011-02-15         1.0         0.0  1.0\n",
      "3103         6.0 2011-02-22         3.0         0.0  3.0\n",
      "3104         6.0 2011-02-28         6.0         0.0  6.0\n",
      "3105         6.0 2011-03-01         2.0         0.0  2.0\n",
      "3106         6.0 2011-03-02         1.0         0.0  1.0\n"
     ]
    },
    {
     "name": "stderr",
     "output_type": "stream",
     "text": [
      "/home/lauren/anaconda2/envs/my_projects_env/lib/python2.7/site-packages/ipykernel/__main__.py:4: FutureWarning: sort(columns=....) is deprecated, use sort_values(by=.....)\n"
     ]
    }
   ],
   "source": [
    "#Create 'net' variable = on a particular date within a particular company, what was the net number of people?\n",
    "#Join - Quit = Net\n",
    "merged2['net'] = merged2['join_count'] - merged2['quit_count']\n",
    "merged2 = merged2.sort(['company_id', 'date'])\n",
    "merged2.head()\n",
    "#See if merged worked\n",
    "print merged2[merged2['company_id']==6][1:10]"
   ]
  },
  {
   "cell_type": "code",
   "execution_count": 223,
   "metadata": {
    "collapsed": false
   },
   "outputs": [],
   "source": [
    "#Create a list of the dates in the desired date range as well as the dates for joining that are in our dataset\n",
    "mydateslist = mydates2['date'].tolist()\n",
    "joinlist =employee['join_date'].tolist()\n",
    "\n",
    "#A way to count how many people joined by date\n",
    "#Can rerun this for each company_id dataset then create cumulative \n",
    "results={} #create a dictionary\n",
    "#count = 0\n",
    "for dates in mydateslist:\n",
    "    if dates in joinlist:\n",
    "        #count += joinlist.count(dates)\n",
    "        results[dates] = joinlist.count(dates) #counts number of times date is in join list = #joined on that date\n",
    "#results"
   ]
  },
  {
   "cell_type": "code",
   "execution_count": 224,
   "metadata": {
    "collapsed": true
   },
   "outputs": [],
   "source": [
    "#For next loop need to make sure date range of interest is in a dataframe so can combine with merged dataframe (#join and quit)\n",
    "mydates2 = pd.DataFrame(mydates)\n",
    "mydates2[1:10]\n",
    "mydates2.columns = ['date']"
   ]
  },
  {
   "cell_type": "markdown",
   "metadata": {},
   "source": [
    "### The code below ouputs large dataframe that includes the cumulative headcounts per company for all the business days between from 2011/01/24 to 2015/12/13. "
   ]
  },
  {
   "cell_type": "code",
   "execution_count": 225,
   "metadata": {
    "collapsed": false,
    "scrolled": true
   },
   "outputs": [
    {
     "name": "stderr",
     "output_type": "stream",
     "text": [
      "/home/lauren/anaconda2/envs/my_projects_env/lib/python2.7/site-packages/ipykernel/__main__.py:12: FutureWarning: sort(columns=....) is deprecated, use sort_values(by=.....)\n"
     ]
    },
    {
     "data": {
      "text/html": [
       "<div>\n",
       "<table border=\"1\" class=\"dataframe\">\n",
       "  <thead>\n",
       "    <tr style=\"text-align: right;\">\n",
       "      <th></th>\n",
       "      <th>company_id</th>\n",
       "      <th>date</th>\n",
       "      <th>head_count</th>\n",
       "    </tr>\n",
       "  </thead>\n",
       "  <tbody>\n",
       "    <tr>\n",
       "      <th>0</th>\n",
       "      <td>1.0</td>\n",
       "      <td>2011-01-24</td>\n",
       "      <td>25.0</td>\n",
       "    </tr>\n",
       "    <tr>\n",
       "      <th>1</th>\n",
       "      <td>1.0</td>\n",
       "      <td>2011-01-25</td>\n",
       "      <td>27.0</td>\n",
       "    </tr>\n",
       "    <tr>\n",
       "      <th>2</th>\n",
       "      <td>1.0</td>\n",
       "      <td>2011-01-26</td>\n",
       "      <td>29.0</td>\n",
       "    </tr>\n",
       "    <tr>\n",
       "      <th>3</th>\n",
       "      <td>1.0</td>\n",
       "      <td>2011-01-27</td>\n",
       "      <td>29.0</td>\n",
       "    </tr>\n",
       "    <tr>\n",
       "      <th>4</th>\n",
       "      <td>1.0</td>\n",
       "      <td>2011-01-28</td>\n",
       "      <td>29.0</td>\n",
       "    </tr>\n",
       "    <tr>\n",
       "      <th>5</th>\n",
       "      <td>1.0</td>\n",
       "      <td>2011-01-31</td>\n",
       "      <td>59.0</td>\n",
       "    </tr>\n",
       "    <tr>\n",
       "      <th>6</th>\n",
       "      <td>1.0</td>\n",
       "      <td>2011-02-01</td>\n",
       "      <td>66.0</td>\n",
       "    </tr>\n",
       "    <tr>\n",
       "      <th>7</th>\n",
       "      <td>1.0</td>\n",
       "      <td>2011-02-02</td>\n",
       "      <td>67.0</td>\n",
       "    </tr>\n",
       "    <tr>\n",
       "      <th>8</th>\n",
       "      <td>1.0</td>\n",
       "      <td>2011-02-03</td>\n",
       "      <td>67.0</td>\n",
       "    </tr>\n",
       "    <tr>\n",
       "      <th>9</th>\n",
       "      <td>1.0</td>\n",
       "      <td>2011-02-04</td>\n",
       "      <td>67.0</td>\n",
       "    </tr>\n",
       "  </tbody>\n",
       "</table>\n",
       "</div>"
      ],
      "text/plain": [
       "   company_id       date  head_count\n",
       "0         1.0 2011-01-24        25.0\n",
       "1         1.0 2011-01-25        27.0\n",
       "2         1.0 2011-01-26        29.0\n",
       "3         1.0 2011-01-27        29.0\n",
       "4         1.0 2011-01-28        29.0\n",
       "5         1.0 2011-01-31        59.0\n",
       "6         1.0 2011-02-01        66.0\n",
       "7         1.0 2011-02-02        67.0\n",
       "8         1.0 2011-02-03        67.0\n",
       "9         1.0 2011-02-04        67.0"
      ]
     },
     "execution_count": 225,
     "metadata": {},
     "output_type": "execute_result"
    }
   ],
   "source": [
    "#The main loop for answering the question #1:\n",
    "#Find the headcount for each date in date range () by company\n",
    "\n",
    "headcountdata = pd.DataFrame() #create an empty dataframe that the loop will add to\n",
    "\n",
    "#def headcount(i):\n",
    "for i in range(1,13):\n",
    "    df = merged2[merged2['company_id'] == i]\n",
    "    result = pd.merge(df, mydates2, how='outer')\n",
    "    result['company_id'] = result.company_id.fillna(i)\n",
    "    result.update(result[['join_count','quit_count','net']].fillna(0))\n",
    "    result= result.sort(['company_id','date'])\n",
    "    result['head_count'] = result['net'].cumsum()\n",
    "    headcountdata = headcountdata.append(result, ignore_index = True) #add to datafrane\n",
    "\n",
    "headcountdata[['company_id','date','head_count']][0:10] #subset necessary variables "
   ]
  },
  {
   "cell_type": "markdown",
   "metadata": {},
   "source": [
    "# Question 2: What are the main factors that drive employee churn?"
   ]
  },
  {
   "cell_type": "code",
   "execution_count": 226,
   "metadata": {
    "collapsed": false
   },
   "outputs": [
    {
     "name": "stdout",
     "output_type": "stream",
     "text": [
      "2015-12-13 00:00:00\n",
      "   employee_id  company_id              dept  seniority    salary  join_date  \\\n",
      "0        13021           7  customer_service         28   89000.0 2014-03-24   \n",
      "1       825355           7         marketing         20  183000.0 2013-04-29   \n",
      "2       927315           4         marketing         14  101000.0 2014-10-13   \n",
      "3       662910           7  customer_service         20  115000.0 2012-05-14   \n",
      "4       256971           2      data_science         23  276000.0 2011-10-17   \n",
      "\n",
      "   quit_date  \n",
      "0 2015-10-30  \n",
      "1 2014-04-04  \n",
      "2        NaT  \n",
      "3 2013-06-07  \n",
      "4 2014-08-22  \n"
     ]
    }
   ],
   "source": [
    "#Create time-to-event variable called time' and variable for whether person quit (1 = yes, 0 = no)\n",
    "\n",
    "#For those without a quit_date, create quit date= 2015/12/13 but event = 0\n",
    "employee['join_date'] = pd.to_datetime(employee['join_date'], format=\"%Y-%m-%d\")\n",
    "employee['quit_date'] = pd.to_datetime(employee['quit_date'], format=\"%Y-%m-%d\")\n",
    "\n",
    "#Create end date for missing quit_dates\n",
    "d = datetime.strptime('2015-12-13', \"%Y-%m-%d\")\n",
    "d_end = pd.to_datetime('2015-12-13', format = \"%Y-%m-%d\")\n",
    "print d_end\n",
    "print employee.head()#check out original dataset to see where quit_date missing so can verify in next step"
   ]
  },
  {
   "cell_type": "code",
   "execution_count": 227,
   "metadata": {
    "collapsed": false,
    "scrolled": true
   },
   "outputs": [
    {
     "name": "stdout",
     "output_type": "stream",
     "text": [
      "   employee_id  company_id              dept  seniority    salary  join_date  \\\n",
      "0        13021           7  customer_service         28   89000.0 2014-03-24   \n",
      "1       825355           7         marketing         20  183000.0 2013-04-29   \n",
      "2       927315           4         marketing         14  101000.0 2014-10-13   \n",
      "3       662910           7  customer_service         20  115000.0 2012-05-14   \n",
      "4       256971           2      data_science         23  276000.0 2011-10-17   \n",
      "\n",
      "   quit_date  \n",
      "0 2015-10-30  \n",
      "1 2014-04-04  \n",
      "2 2015-12-13  \n",
      "3 2013-06-07  \n",
      "4 2014-08-22  \n"
     ]
    }
   ],
   "source": [
    "#Fill in missing end dates with end of study period dates\n",
    "employee = pd.DataFrame(employee)\n",
    "employee['quit_date']= employee.quit_date.fillna(d_end)\n",
    "print employee.head() #fillna worked!"
   ]
  },
  {
   "cell_type": "code",
   "execution_count": 256,
   "metadata": {
    "collapsed": false
   },
   "outputs": [
    {
     "name": "stdout",
     "output_type": "stream",
     "text": [
      "574 days 07:39:28.812241\n"
     ]
    }
   ],
   "source": [
    "#Create time variable which is quit_date - join_date\n",
    "employee['time'] = employee['quit_date'] - employee ['join_date']\n",
    "employee.head()\n",
    "print employee['time'].mean() #mean time = 574 days"
   ]
  },
  {
   "cell_type": "code",
   "execution_count": 250,
   "metadata": {
    "collapsed": false,
    "scrolled": true
   },
   "outputs": [
    {
     "data": {
      "text/html": [
       "<div>\n",
       "<table border=\"1\" class=\"dataframe\">\n",
       "  <thead>\n",
       "    <tr style=\"text-align: right;\">\n",
       "      <th></th>\n",
       "      <th>employee_id</th>\n",
       "      <th>company_id</th>\n",
       "      <th>dept</th>\n",
       "      <th>seniority</th>\n",
       "      <th>salary</th>\n",
       "      <th>join_date</th>\n",
       "      <th>quit_date</th>\n",
       "      <th>event</th>\n",
       "      <th>time</th>\n",
       "    </tr>\n",
       "  </thead>\n",
       "  <tbody>\n",
       "    <tr>\n",
       "      <th>0</th>\n",
       "      <td>13021</td>\n",
       "      <td>7</td>\n",
       "      <td>customer_service</td>\n",
       "      <td>28</td>\n",
       "      <td>89000.0</td>\n",
       "      <td>2014-03-24</td>\n",
       "      <td>2015-10-30</td>\n",
       "      <td>1</td>\n",
       "      <td>585 days</td>\n",
       "    </tr>\n",
       "    <tr>\n",
       "      <th>1</th>\n",
       "      <td>825355</td>\n",
       "      <td>7</td>\n",
       "      <td>marketing</td>\n",
       "      <td>20</td>\n",
       "      <td>183000.0</td>\n",
       "      <td>2013-04-29</td>\n",
       "      <td>2014-04-04</td>\n",
       "      <td>1</td>\n",
       "      <td>340 days</td>\n",
       "    </tr>\n",
       "    <tr>\n",
       "      <th>2</th>\n",
       "      <td>927315</td>\n",
       "      <td>4</td>\n",
       "      <td>marketing</td>\n",
       "      <td>14</td>\n",
       "      <td>101000.0</td>\n",
       "      <td>2014-10-13</td>\n",
       "      <td>2015-12-13</td>\n",
       "      <td>0</td>\n",
       "      <td>426 days</td>\n",
       "    </tr>\n",
       "    <tr>\n",
       "      <th>3</th>\n",
       "      <td>662910</td>\n",
       "      <td>7</td>\n",
       "      <td>customer_service</td>\n",
       "      <td>20</td>\n",
       "      <td>115000.0</td>\n",
       "      <td>2012-05-14</td>\n",
       "      <td>2013-06-07</td>\n",
       "      <td>1</td>\n",
       "      <td>389 days</td>\n",
       "    </tr>\n",
       "    <tr>\n",
       "      <th>4</th>\n",
       "      <td>256971</td>\n",
       "      <td>2</td>\n",
       "      <td>data_science</td>\n",
       "      <td>23</td>\n",
       "      <td>276000.0</td>\n",
       "      <td>2011-10-17</td>\n",
       "      <td>2014-08-22</td>\n",
       "      <td>1</td>\n",
       "      <td>1040 days</td>\n",
       "    </tr>\n",
       "  </tbody>\n",
       "</table>\n",
       "</div>"
      ],
      "text/plain": [
       "   employee_id  company_id              dept  seniority    salary  join_date  \\\n",
       "0        13021           7  customer_service         28   89000.0 2014-03-24   \n",
       "1       825355           7         marketing         20  183000.0 2013-04-29   \n",
       "2       927315           4         marketing         14  101000.0 2014-10-13   \n",
       "3       662910           7  customer_service         20  115000.0 2012-05-14   \n",
       "4       256971           2      data_science         23  276000.0 2011-10-17   \n",
       "\n",
       "   quit_date  event      time  \n",
       "0 2015-10-30      1  585 days  \n",
       "1 2014-04-04      1  340 days  \n",
       "2 2015-12-13      0  426 days  \n",
       "3 2013-06-07      1  389 days  \n",
       "4 2014-08-22      1 1040 days  "
      ]
     },
     "execution_count": 250,
     "metadata": {},
     "output_type": "execute_result"
    }
   ],
   "source": [
    "#Create event variable based on whether the person's last date is the last date considered\n",
    "employee['event'] = np.where(employee['quit_date']==d_end, 0, 1)\n",
    "employee.head()"
   ]
  },
  {
   "cell_type": "code",
   "execution_count": null,
   "metadata": {
    "collapsed": true
   },
   "outputs": [],
   "source": [
    "#Convert time to int so can plot it in KM curve\n",
    "employee['time2'] = (employee['time'] / np.timedelta64(1, 'D')).astype(int)\n",
    "employee.head()\n",
    "employee.info()"
   ]
  },
  {
   "cell_type": "code",
   "execution_count": 301,
   "metadata": {
    "collapsed": false,
    "scrolled": true
   },
   "outputs": [
    {
     "data": {
      "text/plain": [
       "<matplotlib.text.Text at 0x7fd0dd5bf350>"
      ]
     },
     "execution_count": 301,
     "metadata": {},
     "output_type": "execute_result"
    },
    {
     "data": {
      "image/png": "[encoded data removed]",
      "text/plain": [
       "<matplotlib.figure.Figure at 0x7fd0ec383e90>"
      ]
     },
     "metadata": {},
     "output_type": "display_data"
    }
   ],
   "source": [
    "#Create Kaplan-Meier Curve for Overall\n",
    "from lifelines.estimation import KaplanMeierFitter\n",
    "kmf = KaplanMeierFitter()\n",
    "\n",
    "T1 = employee[f]['time2']\n",
    "C1 = employee[f]['event']\n",
    "\n",
    "#Plot\n",
    "kmf.fit(T1, event_observed=C1)\n",
    "kmf.survival_function_.plot()\n",
    "plt.title('Employee Churn')"
   ]
  },
  {
   "cell_type": "code",
   "execution_count": 307,
   "metadata": {
    "collapsed": false
   },
   "outputs": [
    {
     "name": "stdout",
     "output_type": "stream",
     "text": [
      "<class 'pandas.core.frame.DataFrame'>\n",
      "RangeIndex: 24702 entries, 0 to 24701\n",
      "Data columns (total 11 columns):\n",
      "employee_id    24702 non-null int64\n",
      "company_id     24702 non-null int64\n",
      "dept           24702 non-null object\n",
      "seniority      24702 non-null int64\n",
      "salary         24702 non-null float64\n",
      "join_date      24702 non-null datetime64[ns]\n",
      "quit_date      24702 non-null datetime64[ns]\n",
      "event          24702 non-null int64\n",
      "time           24702 non-null timedelta64[ns]\n",
      "time2          24702 non-null int64\n",
      "salary_cat     22379 non-null category\n",
      "dtypes: category(1), datetime64[ns](2), float64(1), int64(5), object(1), timedelta64[ns](1)\n",
      "memory usage: 1.9+ MB\n"
     ]
    }
   ],
   "source": [
    "#Create variables for salary\n",
    "bins = (50000, 150000, 250000, 350000, 410000)\n",
    "name = ('low', 'med', 'med-hi', 'hi')\n",
    "employee['salary_cat'] = pd.cut (employee['salary'], bins, labels = name)\n",
    "employee.head()\n",
    "employee.info()"
   ]
  },
  {
   "cell_type": "code",
   "execution_count": 308,
   "metadata": {
    "collapsed": false,
    "scrolled": true
   },
   "outputs": [
    {
     "data": {
      "image/png": "[encoded data removed]",
      "text/plain": [
       "<matplotlib.figure.Figure at 0x7fd0dd4fe450>"
      ]
     },
     "metadata": {},
     "output_type": "display_data"
    }
   ],
   "source": [
    "#By Salary \n",
    "f1 = employee.salary_cat=='low'\n",
    "T1 = employee[f1]['time2']\n",
    "C1= employee[f1]['event']\n",
    "\n",
    "f2 = employee.salary_cat=='med'\n",
    "T2 = employee[f2]['time2']\n",
    "C2= employee[f2]['event']\n",
    "\n",
    "f3 = employee.salary_cat=='med-hi'\n",
    "T3 = employee[f3]['time2']\n",
    "C3= employee[f3]['event']\n",
    "\n",
    "f4 = employee.salary_cat=='hi'\n",
    "T4 = employee[f4]['time2']\n",
    "C4= employee[f4]['event']\n",
    "\n",
    "\n",
    "ax = plt.subplot(111)\n",
    "\n",
    "kmf.fit(T1, event_observed=C1, label=['Low Salary'])\n",
    "\n",
    "kmf.survival_function_.plot(ax=ax)\n",
    "\n",
    "kmf.fit(T2, event_observed=C2, label=['Medium Salary'])\n",
    "\n",
    "kmf.survival_function_.plot(ax=ax)\n",
    "\n",
    "kmf.fit(T3, event_observed=C3, label=['Medium-High Salary'])\n",
    "\n",
    "kmf.survival_function_.plot(ax=ax)\n",
    "\n",
    "kmf.fit(T4, event_observed=C4, label=['High Salary'])\n",
    "\n",
    "\n",
    "plt.title('Employee Churn by Salary')\n",
    "\n",
    "kmf2 = plt.gcf()"
   ]
  },
  {
   "cell_type": "code",
   "execution_count": 313,
   "metadata": {
    "collapsed": false
   },
   "outputs": [
    {
     "name": "stdout",
     "output_type": "stream",
     "text": [
      "n=24702, number of events=13510\n",
      "\n",
      "                coef  exp(coef)  se(coef)          z         p  lower 0.95  upper 0.95     \n",
      "seniority  7.348e-02  1.076e+00 1.029e-02  7.144e+00 9.098e-13   5.331e-02   9.364e-02  ***\n",
      "salary    -1.240e-01  8.833e-01 1.030e-02 -1.205e+01 2.026e-33  -1.442e-01  -1.038e-01  ***\n",
      "---\n",
      "Signif. codes:  0 '***' 0.001 '**' 0.01 '*' 0.05 '.' 0.1 ' ' 1 \n",
      "\n",
      "Concordance = 0.529\n"
     ]
    }
   ],
   "source": [
    "#Run Cox Proportional Hazards to Find Main Factors that Drive Employee Churn\n",
    "from lifelines import CoxPHFitter\n",
    "\n",
    "dataset = employee[['seniority','salary', 'time2','event']]\n",
    "cf = CoxPHFitter()\n",
    "time = employee['time2']\n",
    "cf.fit(dataset, 'time2', event_col='event')\n",
    "\n",
    "cf.print_summary()  # access the results using cf.summary"
   ]
  },
  {
   "cell_type": "code",
   "execution_count": 318,
   "metadata": {
    "collapsed": false,
    "scrolled": true
   },
   "outputs": [
    {
     "name": "stdout",
     "output_type": "stream",
     "text": [
      "[0.52756971981393086, 0.51932786932317299, 0.54724019987032124, 0.52495592684650627, 0.52527053160197124]\n",
      "0.528872849491\n",
      "0.00957583761864\n"
     ]
    }
   ],
   "source": [
    "#Cross-validation splits data into test and train sets and returns out R2 for test set\n",
    "scores = k_fold_cross_validation(cf, dataset, 'time2', event_col='event', k=5)\n",
    "print scores\n",
    "print np.mean(scores)\n",
    "print np.std(scores)\n",
    "#R2 = 0.53"
   ]
  },
  {
   "cell_type": "markdown",
   "metadata": {},
   "source": [
    "### Salary is a significant predictor of employee churn. \n",
    "One unit increase in salary is associated with 22% [exp(0.124) = 0.88] decrease in the probability of quitting."
   ]
  },
  {
   "cell_type": "code",
   "execution_count": null,
   "metadata": {
    "collapsed": true
   },
   "outputs": [],
   "source": []
  }
 ],
 "metadata": {
  "anaconda-cloud": {},
  "celltoolbar": "Edit Metadata",
  "kernelspec": {
   "display_name": "Python [conda env:my_projects_env]",
   "language": "python",
   "name": "conda-env-my_projects_env-py"
  },
  "language_info": {
   "codemirror_mode": {
    "name": "ipython",
    "version": 2
   },
   "file_extension": ".py",
   "mimetype": "text/x-python",
   "name": "python",
   "nbconvert_exporter": "python",
   "pygments_lexer": "ipython2",
   "version": "2.7.12"
  }
 },
 "nbformat": 4,
 "nbformat_minor": 1
}
