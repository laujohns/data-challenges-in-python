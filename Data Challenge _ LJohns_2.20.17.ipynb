{
 "cells": [
  {
   "cell_type": "markdown",
   "metadata": {
    "collapsed": false
   },
   "source": [
    "### Data analysis to test whether a pricing test is successful. Specifically, these analyses answer the following questions: \n",
    "\n",
    "1.) Should the company sell its software for 39 or 59 dollars?\n",
    "\n",
    "2.) What are the main findings when looking at the data?\n",
    "\n",
    "Bonus: After how many days would you have stopped the test?"
   ]
  },
  {
   "cell_type": "code",
   "execution_count": null,
   "metadata": {
    "collapsed": true
   },
   "outputs": [],
   "source": [
    "#Import necessary packages\n",
    "import pandas as pd\n",
    "import numpy as np\n",
    "import seaborn as sns\n",
    "%matplotlib inline\n",
    "import matplotlib.pyplot as plt\n",
    "import scipy.stats #for chi-squared"
   ]
  },
  {
   "cell_type": "code",
   "execution_count": 3,
   "metadata": {
    "collapsed": false
   },
   "outputs": [],
   "source": [
    "#Read csv files into python\n",
    "import pandas\n",
    "test = pandas.read_csv(\"/home/lauren/Dropbox/Data Science/data challenge/test_results.csv\")\n",
    "user = pandas.read_csv(\"/home/lauren/Dropbox/Data Science/data challenge/user_table.csv\")"
   ]
  },
  {
   "cell_type": "code",
   "execution_count": 4,
   "metadata": {
    "collapsed": false
   },
   "outputs": [
    {
     "data": {
      "text/html": [
       "<div>\n",
       "<table border=\"1\" class=\"dataframe\">\n",
       "  <thead>\n",
       "    <tr style=\"text-align: right;\">\n",
       "      <th></th>\n",
       "      <th>user_id</th>\n",
       "      <th>city</th>\n",
       "      <th>country</th>\n",
       "      <th>lat</th>\n",
       "      <th>long</th>\n",
       "    </tr>\n",
       "  </thead>\n",
       "  <tbody>\n",
       "    <tr>\n",
       "      <th>0</th>\n",
       "      <td>510335</td>\n",
       "      <td>Peabody</td>\n",
       "      <td>USA</td>\n",
       "      <td>42.53</td>\n",
       "      <td>-70.97</td>\n",
       "    </tr>\n",
       "    <tr>\n",
       "      <th>1</th>\n",
       "      <td>89568</td>\n",
       "      <td>Reno</td>\n",
       "      <td>USA</td>\n",
       "      <td>39.54</td>\n",
       "      <td>-119.82</td>\n",
       "    </tr>\n",
       "    <tr>\n",
       "      <th>2</th>\n",
       "      <td>434134</td>\n",
       "      <td>Rialto</td>\n",
       "      <td>USA</td>\n",
       "      <td>34.11</td>\n",
       "      <td>-117.39</td>\n",
       "    </tr>\n",
       "    <tr>\n",
       "      <th>3</th>\n",
       "      <td>289769</td>\n",
       "      <td>Carson City</td>\n",
       "      <td>USA</td>\n",
       "      <td>39.15</td>\n",
       "      <td>-119.74</td>\n",
       "    </tr>\n",
       "    <tr>\n",
       "      <th>4</th>\n",
       "      <td>939586</td>\n",
       "      <td>Chicago</td>\n",
       "      <td>USA</td>\n",
       "      <td>41.84</td>\n",
       "      <td>-87.68</td>\n",
       "    </tr>\n",
       "    <tr>\n",
       "      <th>5</th>\n",
       "      <td>229234</td>\n",
       "      <td>New York</td>\n",
       "      <td>USA</td>\n",
       "      <td>40.67</td>\n",
       "      <td>-73.94</td>\n",
       "    </tr>\n",
       "    <tr>\n",
       "      <th>6</th>\n",
       "      <td>339138</td>\n",
       "      <td>Durham</td>\n",
       "      <td>USA</td>\n",
       "      <td>35.98</td>\n",
       "      <td>-78.91</td>\n",
       "    </tr>\n",
       "    <tr>\n",
       "      <th>7</th>\n",
       "      <td>270353</td>\n",
       "      <td>New York</td>\n",
       "      <td>USA</td>\n",
       "      <td>40.67</td>\n",
       "      <td>-73.94</td>\n",
       "    </tr>\n",
       "    <tr>\n",
       "      <th>8</th>\n",
       "      <td>166748</td>\n",
       "      <td>Burke</td>\n",
       "      <td>USA</td>\n",
       "      <td>38.78</td>\n",
       "      <td>-77.27</td>\n",
       "    </tr>\n",
       "    <tr>\n",
       "      <th>9</th>\n",
       "      <td>167700</td>\n",
       "      <td>New York</td>\n",
       "      <td>USA</td>\n",
       "      <td>40.67</td>\n",
       "      <td>-73.94</td>\n",
       "    </tr>\n",
       "  </tbody>\n",
       "</table>\n",
       "</div>"
      ],
      "text/plain": [
       "   user_id         city country    lat    long\n",
       "0   510335      Peabody     USA  42.53  -70.97\n",
       "1    89568         Reno     USA  39.54 -119.82\n",
       "2   434134       Rialto     USA  34.11 -117.39\n",
       "3   289769  Carson City     USA  39.15 -119.74\n",
       "4   939586      Chicago     USA  41.84  -87.68\n",
       "5   229234     New York     USA  40.67  -73.94\n",
       "6   339138       Durham     USA  35.98  -78.91\n",
       "7   270353     New York     USA  40.67  -73.94\n",
       "8   166748        Burke     USA  38.78  -77.27\n",
       "9   167700     New York     USA  40.67  -73.94"
      ]
     },
     "execution_count": 4,
     "metadata": {},
     "output_type": "execute_result"
    }
   ],
   "source": [
    "##Inspect data\n",
    "\n",
    "#dimensions of matrices (make sure matches R output)\n",
    "test.shape #315800, 8\n",
    "user.shape #275616, 5\n",
    "\n",
    "#see first 10 rows of data\n",
    "\n",
    "test.head(10)\n",
    "user.head(10)"
   ]
  },
  {
   "cell_type": "code",
   "execution_count": 5,
   "metadata": {
    "collapsed": false
   },
   "outputs": [
    {
     "data": {
      "text/plain": [
       "pandas.core.frame.DataFrame"
      ]
     },
     "execution_count": 5,
     "metadata": {},
     "output_type": "execute_result"
    }
   ],
   "source": [
    "#Make sure imported as dataframe\n",
    "type(test)\n",
    "type(user)"
   ]
  },
  {
   "cell_type": "code",
   "execution_count": 6,
   "metadata": {
    "collapsed": false
   },
   "outputs": [
    {
     "data": {
      "text/plain": [
       "dtype('int64')"
      ]
     },
     "execution_count": 6,
     "metadata": {},
     "output_type": "execute_result"
    }
   ],
   "source": [
    "#Check to make sure user_id same class in both datasets\n",
    "test['user_id'].dtype #integer\n",
    "user['user_id'].dtype #integer"
   ]
  },
  {
   "cell_type": "code",
   "execution_count": 7,
   "metadata": {
    "collapsed": false
   },
   "outputs": [
    {
     "data": {
      "text/plain": [
       "275616"
      ]
     },
     "execution_count": 7,
     "metadata": {},
     "output_type": "execute_result"
    }
   ],
   "source": [
    "#Make sure none of the user_id's are repeated\n",
    "len(test['user_id'].unique()) #not repeated\n",
    "len(user['user_id'].unique()) #not repeated"
   ]
  },
  {
   "cell_type": "code",
   "execution_count": 8,
   "metadata": {
    "collapsed": false
   },
   "outputs": [],
   "source": [
    "\"\"\"Merge by user_id using left outer join b/c test df has more user_ids and we want to \n",
    "capture those who don't have user information\"\"\"\n",
    "df_merge = test.merge(user, how = 'left', on = 'user_id')"
   ]
  },
  {
   "cell_type": "code",
   "execution_count": 9,
   "metadata": {
    "collapsed": false,
    "scrolled": true
   },
   "outputs": [
    {
     "data": {
      "text/plain": [
       "(316800, 12)"
      ]
     },
     "execution_count": 9,
     "metadata": {},
     "output_type": "execute_result"
    }
   ],
   "source": [
    "#Make sure no. rows matches those of test df\n",
    "df_merge.shape #N=316800, 12 variables"
   ]
  },
  {
   "cell_type": "code",
   "execution_count": 10,
   "metadata": {
    "collapsed": false
   },
   "outputs": [
    {
     "name": "stderr",
     "output_type": "stream",
     "text": [
      "/home/lauren/anaconda2/envs/my_projects_env/lib/python2.7/site-packages/numpy/lib/function_base.py:3834: RuntimeWarning: Invalid value encountered in percentile\n",
      "  RuntimeWarning)\n"
     ]
    },
    {
     "data": {
      "text/html": [
       "<div>\n",
       "<table border=\"1\" class=\"dataframe\">\n",
       "  <thead>\n",
       "    <tr style=\"text-align: right;\">\n",
       "      <th></th>\n",
       "      <th>user_id</th>\n",
       "      <th>test</th>\n",
       "      <th>price</th>\n",
       "      <th>converted</th>\n",
       "      <th>lat</th>\n",
       "      <th>long</th>\n",
       "    </tr>\n",
       "  </thead>\n",
       "  <tbody>\n",
       "    <tr>\n",
       "      <th>count</th>\n",
       "      <td>316800.000000</td>\n",
       "      <td>316800.000000</td>\n",
       "      <td>316800.000000</td>\n",
       "      <td>316800.000000</td>\n",
       "      <td>275616.000000</td>\n",
       "      <td>275616.000000</td>\n",
       "    </tr>\n",
       "    <tr>\n",
       "      <th>mean</th>\n",
       "      <td>499281.341840</td>\n",
       "      <td>0.360079</td>\n",
       "      <td>46.205051</td>\n",
       "      <td>0.018333</td>\n",
       "      <td>37.111680</td>\n",
       "      <td>-93.981772</td>\n",
       "    </tr>\n",
       "    <tr>\n",
       "      <th>std</th>\n",
       "      <td>288591.154044</td>\n",
       "      <td>0.480024</td>\n",
       "      <td>9.601487</td>\n",
       "      <td>0.134154</td>\n",
       "      <td>5.209627</td>\n",
       "      <td>18.086486</td>\n",
       "    </tr>\n",
       "    <tr>\n",
       "      <th>min</th>\n",
       "      <td>3.000000</td>\n",
       "      <td>0.000000</td>\n",
       "      <td>39.000000</td>\n",
       "      <td>0.000000</td>\n",
       "      <td>19.700000</td>\n",
       "      <td>-157.800000</td>\n",
       "    </tr>\n",
       "    <tr>\n",
       "      <th>25%</th>\n",
       "      <td>249525.750000</td>\n",
       "      <td>0.000000</td>\n",
       "      <td>39.000000</td>\n",
       "      <td>0.000000</td>\n",
       "      <td>NaN</td>\n",
       "      <td>NaN</td>\n",
       "    </tr>\n",
       "    <tr>\n",
       "      <th>50%</th>\n",
       "      <td>499021.500000</td>\n",
       "      <td>0.000000</td>\n",
       "      <td>39.000000</td>\n",
       "      <td>0.000000</td>\n",
       "      <td>NaN</td>\n",
       "      <td>NaN</td>\n",
       "    </tr>\n",
       "    <tr>\n",
       "      <th>75%</th>\n",
       "      <td>749025.500000</td>\n",
       "      <td>1.000000</td>\n",
       "      <td>59.000000</td>\n",
       "      <td>0.000000</td>\n",
       "      <td>NaN</td>\n",
       "      <td>NaN</td>\n",
       "    </tr>\n",
       "    <tr>\n",
       "      <th>max</th>\n",
       "      <td>1000000.000000</td>\n",
       "      <td>1.000000</td>\n",
       "      <td>59.000000</td>\n",
       "      <td>1.000000</td>\n",
       "      <td>61.180000</td>\n",
       "      <td>30.310000</td>\n",
       "    </tr>\n",
       "  </tbody>\n",
       "</table>\n",
       "</div>"
      ],
      "text/plain": [
       "              user_id           test          price      converted  \\\n",
       "count   316800.000000  316800.000000  316800.000000  316800.000000   \n",
       "mean    499281.341840       0.360079      46.205051       0.018333   \n",
       "std     288591.154044       0.480024       9.601487       0.134154   \n",
       "min          3.000000       0.000000      39.000000       0.000000   \n",
       "25%     249525.750000       0.000000      39.000000       0.000000   \n",
       "50%     499021.500000       0.000000      39.000000       0.000000   \n",
       "75%     749025.500000       1.000000      59.000000       0.000000   \n",
       "max    1000000.000000       1.000000      59.000000       1.000000   \n",
       "\n",
       "                 lat           long  \n",
       "count  275616.000000  275616.000000  \n",
       "mean       37.111680     -93.981772  \n",
       "std         5.209627      18.086486  \n",
       "min        19.700000    -157.800000  \n",
       "25%              NaN            NaN  \n",
       "50%              NaN            NaN  \n",
       "75%              NaN            NaN  \n",
       "max        61.180000      30.310000  "
      ]
     },
     "execution_count": 10,
     "metadata": {},
     "output_type": "execute_result"
    }
   ],
   "source": [
    "#Inspect data\n",
    "df_merge.head()\n",
    "df_merge.describe()"
   ]
  },
  {
   "cell_type": "code",
   "execution_count": 11,
   "metadata": {
    "collapsed": false
   },
   "outputs": [
    {
     "data": {
      "text/plain": [
       "user_id                 0\n",
       "timestamp               0\n",
       "source                  0\n",
       "device                  0\n",
       "operative_system        0\n",
       "test                    0\n",
       "price                   0\n",
       "converted               0\n",
       "city                41184\n",
       "country             41184\n",
       "lat                 41184\n",
       "long                41184\n",
       "dtype: int64"
      ]
     },
     "execution_count": 11,
     "metadata": {},
     "output_type": "execute_result"
    }
   ],
   "source": [
    "#See number of missing values\n",
    "df_merge.isnull().sum() #41,184 are missing values in user characteristics"
   ]
  },
  {
   "cell_type": "code",
   "execution_count": 12,
   "metadata": {
    "collapsed": false,
    "scrolled": true
   },
   "outputs": [
    {
     "data": {
      "text/plain": [
       "0    202727\n",
       "1    114073\n",
       "Name: test, dtype: int64"
      ]
     },
     "execution_count": 12,
     "metadata": {},
     "output_type": "execute_result"
    }
   ],
   "source": [
    "#Frequency table for number of users in test (1=$59; 0=$39)\n",
    "pd.value_counts(df_merge.test)"
   ]
  },
  {
   "cell_type": "code",
   "execution_count": 12,
   "metadata": {
    "collapsed": false
   },
   "outputs": [
    {
     "data": {
      "text/plain": [
       "39    202672\n",
       "59    114128\n",
       "Name: price, dtype: int64"
      ]
     },
     "execution_count": 12,
     "metadata": {},
     "output_type": "execute_result"
    }
   ],
   "source": [
    "#Frequency table for number of people in each price (should match test variable)\n",
    "pd.value_counts(df_merge.price)#does not match"
   ]
  },
  {
   "cell_type": "code",
   "execution_count": 13,
   "metadata": {
    "collapsed": false
   },
   "outputs": [
    {
     "name": "stdout",
     "output_type": "stream",
     "text": [
      "int64\n",
      "        user_id            timestamp          source  device operative_system  \\\n",
      "1457     686486  2015-03-28 15:26:19       seo-other  mobile          android   \n",
      "1912     128338  2015-05-15 11:41:49  direct_traffic  mobile          android   \n",
      "2337     220590  2015-03-27 12:31:43      ads-google     web          windows   \n",
      "3147     246390  2015-05-30 08:29:44  direct_traffic  mobile              iOS   \n",
      "4277     906451  2015-04-05 11:09:18      ads-google     web          windows   \n",
      "11792    508012  2015-05-09 04:17:19       ads_other     web          windows   \n",
      "11975    166760  2015-03-27 21:22:22       ads_other  mobile              iOS   \n",
      "13838    520175  2015-05-08 12:19:04  direct_traffic  mobile          android   \n",
      "16633    876935  2015-04-18 16:07:48        ads-bing  mobile            other   \n",
      "18009    696413  2015-05-08 11:56:08    seo_facebook  mobile            other   \n",
      "18775    802243  2015-04-24 19:21:53    ads_facebook  mobile          android   \n",
      "20763    114627  2015-03-21 17:17:19  direct_traffic  mobile          android   \n",
      "22451    837997  2015-04-03 03:34:25  direct_traffic     web            linux   \n",
      "26790    560470  2015-03-25 11:13:31    seo_facebook  mobile          android   \n",
      "31812    604418  2015-05-24 02:44:40  direct_traffic     web          windows   \n",
      "36083    359216  2015-04-06 12:21:60        ads-bing  mobile              iOS   \n",
      "36226    676686  2015-04-18 16:07:48        ads-bing  mobile            other   \n",
      "38016     48240  2015-04-11 11:30:04      seo-google  mobile              iOS   \n",
      "39725    470409  2015-04-28 15:06:15  direct_traffic     web          windows   \n",
      "41467    417872  2015-03-25 11:13:31    seo_facebook  mobile          android   \n",
      "41777     14453  2015-05-30 00:08:09  direct_traffic     web          windows   \n",
      "43767    511110  2015-05-02 22:15:31  direct_traffic  mobile              iOS   \n",
      "43880    710029  2015-03-15 00:29:54      seo-google  mobile          android   \n",
      "45979     97336  2015-05-17 13:56:45        ads-bing  mobile              iOS   \n",
      "48215    411279  2015-04-04 12:58:51    seo_facebook  mobile              iOS   \n",
      "48916    600091  2015-05-30 00:08:09  direct_traffic     web          windows   \n",
      "51502    856220  2015-05-09 11:30:49        seo-bing  mobile              iOS   \n",
      "53450    982674  2015-05-24 16:30:42      ads-google     web          windows   \n",
      "54726    528787  2015-05-08 11:56:08    seo_facebook  mobile            other   \n",
      "54768    319821  2015-03-06 08:18:06    ads_facebook  mobile          android   \n",
      "...         ...                  ...             ...     ...              ...   \n",
      "267587   175833  2015-03-25 11:13:31    seo_facebook  mobile          android   \n",
      "268168   658666  2015-03-27 16:54:22    ads_facebook  mobile              iOS   \n",
      "272432    98823  2015-05-31 23:04:22  direct_traffic  mobile              iOS   \n",
      "275733   379629  2015-03-13 00:24:23    ads_facebook  mobile              iOS   \n",
      "275793   378448  2015-05-09 04:17:19       ads_other     web          windows   \n",
      "282865   716497  2015-03-06 08:18:06    ads_facebook  mobile          android   \n",
      "282915   598562  2015-05-08 16:21:14       ads_other     web              mac   \n",
      "284445   627435  2015-05-02 22:15:31  direct_traffic  mobile              iOS   \n",
      "285538   348851  2015-03-28 07:57:27    ads_facebook     web          windows   \n",
      "288500   513522  2015-04-06 12:21:60        ads-bing  mobile              iOS   \n",
      "288578   130386  2015-05-21 12:36:06      ads-google  mobile              iOS   \n",
      "289336   371299  2015-05-26 12:53:23      seo-google  mobile          android   \n",
      "289674   936735  2015-03-06 11:25:31    seo_facebook     web          windows   \n",
      "289847   273257  2015-03-06 11:25:31    seo_facebook     web          windows   \n",
      "290060   536670  2015-04-05 11:09:18      ads-google     web          windows   \n",
      "291399   655365  2015-04-11 05:39:30       seo-other     web              mac   \n",
      "293542   202320  2015-04-16 13:24:32  direct_traffic  mobile              iOS   \n",
      "296405    72410  2015-03-15 23:28:36       ads_other  mobile              iOS   \n",
      "300708    14601  2015-05-13 03:56:05      ads-google  mobile          android   \n",
      "301418   782790  2015-05-24 02:44:40  direct_traffic     web          windows   \n",
      "304776   849338  2015-05-17 16:04:53       ads-yahoo     web          windows   \n",
      "307648   744493  2015-05-08 18:10:09       ads_other  mobile              iOS   \n",
      "308539    31136  2015-03-13 09:05:52       ads_other  mobile              iOS   \n",
      "311541   326423  2015-05-25 19:15:05      ads-google     web          windows   \n",
      "312755   782507  2015-04-05 18:01:28  direct_traffic     web          windows   \n",
      "313723   557784  2015-05-17 16:04:53       ads-yahoo     web          windows   \n",
      "314391    24049  2015-04-12 14:39:38      seo-google     web              mac   \n",
      "314402   191130  2015-04-10 15:45:42  direct_traffic  mobile          android   \n",
      "314696   237644  2015-05-15 11:41:49  direct_traffic  mobile          android   \n",
      "315864   748425  2015-05-25 19:15:05      ads-google     web          windows   \n",
      "\n",
      "        test  price  converted              city country    lat    long  \n",
      "1457       1     39          0         Kennewick     USA  46.20 -119.17  \n",
      "1912       1     39          0       Los Angeles     USA  34.11 -118.41  \n",
      "2337       1     39          0       Saint Louis     USA  38.64  -90.24  \n",
      "3147       1     39          0          Bellevue     USA  41.16  -95.92  \n",
      "4277       1     39          0       West Covina     USA  34.05 -117.91  \n",
      "11792      1     39          0           Vallejo     USA  38.11 -122.26  \n",
      "11975      1     39          0         La Puente     USA  34.03 -117.95  \n",
      "13838      1     39          0               NaN     NaN    NaN     NaN  \n",
      "16633      1     39          0            Toledo     USA  41.66  -83.58  \n",
      "18009      1     39          0     The Woodlands     USA  30.16  -95.49  \n",
      "18775      1     39          0      Indianapolis     USA  39.78  -86.15  \n",
      "20763      1     39          0               NaN     NaN    NaN     NaN  \n",
      "22451      1     39          0               NaN     NaN    NaN     NaN  \n",
      "26790      1     39          0          New York     USA  40.67  -73.94  \n",
      "31812      1     39          0               NaN     NaN    NaN     NaN  \n",
      "36083      1     39          0               NaN     NaN    NaN     NaN  \n",
      "36226      1     39          0               NaN     NaN    NaN     NaN  \n",
      "38016      1     39          0         Knoxville     USA  35.97  -83.95  \n",
      "39725      1     39          0             Brick     USA  40.06  -74.11  \n",
      "41467      1     39          0               NaN     NaN    NaN     NaN  \n",
      "41777      1     39          0        Rapid City     USA  44.08 -103.23  \n",
      "43767      1     39          0            Mobile     USA  30.68  -88.09  \n",
      "43880      1     39          0         Las Vegas     USA  36.21 -115.22  \n",
      "45979      1     39          0       Saint Cloud     USA  45.55  -94.17  \n",
      "48215      1     39          0          El Monte     USA  34.07 -118.03  \n",
      "48916      1     39          0        Rapid City     USA  44.08 -103.23  \n",
      "51502      1     39          0  Port Saint Lucie     USA  27.28  -80.35  \n",
      "53450      1     39          0       Palm Desert     USA  33.73 -116.38  \n",
      "54726      1     39          0     The Woodlands     USA  30.16  -95.49  \n",
      "54768      1     39          0          San Jose     USA  37.30 -121.85  \n",
      "...      ...    ...        ...               ...     ...    ...     ...  \n",
      "267587     1     39          0          New York     USA  40.67  -73.94  \n",
      "268168     1     39          0          New York     USA  40.67  -73.94  \n",
      "272432     1     39          0          New York     USA  40.67  -73.94  \n",
      "275733     1     39          0            Tucson     USA  32.20 -110.89  \n",
      "275793     1     39          0           Vallejo     USA  38.11 -122.26  \n",
      "282865     1     39          0          San Jose     USA  37.30 -121.85  \n",
      "282915     1     39          0         Pawtucket     USA  41.87  -71.37  \n",
      "284445     1     39          0            Mobile     USA  30.68  -88.09  \n",
      "285538     1     39          0        High Point     USA  35.98  -80.00  \n",
      "288500     1     39          0            Tucson     USA  32.20 -110.89  \n",
      "288578     1     39          0          Lawrence     USA  38.96  -95.26  \n",
      "289336     1     39          0         Worcester     USA  42.27  -71.81  \n",
      "289674     1     39          0       Bakersfield     USA  35.36 -119.00  \n",
      "289847     1     39          0               NaN     NaN    NaN     NaN  \n",
      "290060     1     39          0       West Covina     USA  34.05 -117.91  \n",
      "291399     1     39          0    Rancho Cordova     USA  38.60 -121.30  \n",
      "293542     1     39          0     Castro Valley     USA  37.71 -122.06  \n",
      "296405     1     39          0          New York     USA  40.67  -73.94  \n",
      "300708     1     39          0        Hutchinson     USA  38.07  -97.91  \n",
      "301418     1     39          0          Columbia     USA  34.04  -80.89  \n",
      "304776     1     39          0      Philadelphia     USA  40.01  -75.13  \n",
      "307648     1     39          0           Memphis     USA  35.11  -90.01  \n",
      "308539     1     39          1               NaN     NaN    NaN     NaN  \n",
      "311541     1     39          0          Mesquite     USA  32.77  -96.60  \n",
      "312755     1     39          0          New York     USA  40.67  -73.94  \n",
      "313723     1     39          0      Philadelphia     USA  40.01  -75.13  \n",
      "314391     1     39          0            Albany     USA  42.67  -73.80  \n",
      "314402     1     39          0         Placentia     USA  33.88 -117.85  \n",
      "314696     1     39          0       Los Angeles     USA  34.11 -118.41  \n",
      "315864     1     39          0          Mesquite     USA  32.77  -96.60  \n",
      "\n",
      "[155 rows x 12 columns]\n",
      "39    202727\n",
      "59    114073\n",
      "Name: price, dtype: int64\n",
      "0    202727\n",
      "1    114073\n",
      "Name: test, dtype: int64\n"
     ]
    }
   ],
   "source": [
    "#Make sure price is integer\n",
    "print df_merge['price'].dtype\n",
    "\n",
    "#Inspect which rows have test == 1 but price != $59\n",
    "print df_merge.loc[(df_merge['test'] == 1) & (df_merge['price'] != 59)]\n",
    "\n",
    "#Revalue those with wrong price for test == 1\n",
    "df_merge.loc[(df_merge['test'] == 1) & (df_merge['price'] != 59), 'price'] = 59\n",
    "df_merge.loc[(df_merge['test'] == 0) & (df_merge['price'] != 39), 'price'] = 39\n",
    "\n",
    "#See if revalue worked\n",
    "print pd.value_counts(df_merge.price)\n",
    "print pd.value_counts(df_merge.test)"
   ]
  },
  {
   "cell_type": "code",
   "execution_count": 14,
   "metadata": {
    "collapsed": false
   },
   "outputs": [
    {
     "data": {
      "text/plain": [
       "0    310992\n",
       "1      5808\n",
       "Name: converted, dtype: int64"
      ]
     },
     "execution_count": 14,
     "metadata": {},
     "output_type": "execute_result"
    }
   ],
   "source": [
    "#Inspect converted variable\n",
    "pd.value_counts(df_merge.converted) "
   ]
  },
  {
   "cell_type": "code",
   "execution_count": 14,
   "metadata": {
    "collapsed": false
   },
   "outputs": [
    {
     "data": {
      "text/html": [
       "<div>\n",
       "<table border=\"1\" class=\"dataframe\">\n",
       "  <thead>\n",
       "    <tr style=\"text-align: right;\">\n",
       "      <th></th>\n",
       "      <th>no_converted</th>\n",
       "      <th>converted</th>\n",
       "      <th>columntotal</th>\n",
       "    </tr>\n",
       "  </thead>\n",
       "  <tbody>\n",
       "    <tr>\n",
       "      <th>no_test</th>\n",
       "      <td>198692</td>\n",
       "      <td>4035</td>\n",
       "      <td>202727</td>\n",
       "    </tr>\n",
       "    <tr>\n",
       "      <th>test</th>\n",
       "      <td>112300</td>\n",
       "      <td>1773</td>\n",
       "      <td>114073</td>\n",
       "    </tr>\n",
       "    <tr>\n",
       "      <th>rowtotal</th>\n",
       "      <td>310992</td>\n",
       "      <td>5808</td>\n",
       "      <td>316800</td>\n",
       "    </tr>\n",
       "  </tbody>\n",
       "</table>\n",
       "</div>"
      ],
      "text/plain": [
       "          no_converted  converted  columntotal\n",
       "no_test         198692       4035       202727\n",
       "test            112300       1773       114073\n",
       "rowtotal        310992       5808       316800"
      ]
     },
     "execution_count": 14,
     "metadata": {},
     "output_type": "execute_result"
    }
   ],
   "source": [
    "#Create a two-way table to show the numbers of test vs converted\n",
    "testbyconv = pd.crosstab(index=df_merge['test'], \n",
    "                       columns=df_merge['converted'], margins = True)\n",
    "testbyconv.index = [\"no_test\", \"test\", \"rowtotal\"]\n",
    "testbyconv.columns = [\"no_converted\", \"converted\", \"columntotal\"]\n",
    "testbyconv"
   ]
  },
  {
   "cell_type": "code",
   "execution_count": 15,
   "metadata": {
    "collapsed": false
   },
   "outputs": [
    {
     "data": {
      "text/html": [
       "<div>\n",
       "<table border=\"1\" class=\"dataframe\">\n",
       "  <thead>\n",
       "    <tr style=\"text-align: right;\">\n",
       "      <th></th>\n",
       "      <th>no_converted</th>\n",
       "      <th>converted</th>\n",
       "      <th>columntotal</th>\n",
       "    </tr>\n",
       "  </thead>\n",
       "  <tbody>\n",
       "    <tr>\n",
       "      <th>no_test</th>\n",
       "      <td>0.638897</td>\n",
       "      <td>0.694731</td>\n",
       "      <td>0.639921</td>\n",
       "    </tr>\n",
       "    <tr>\n",
       "      <th>test</th>\n",
       "      <td>0.361103</td>\n",
       "      <td>0.305269</td>\n",
       "      <td>0.360079</td>\n",
       "    </tr>\n",
       "    <tr>\n",
       "      <th>rowtotal</th>\n",
       "      <td>1.000000</td>\n",
       "      <td>1.000000</td>\n",
       "      <td>1.000000</td>\n",
       "    </tr>\n",
       "  </tbody>\n",
       "</table>\n",
       "</div>"
      ],
      "text/plain": [
       "          no_converted  converted  columntotal\n",
       "no_test       0.638897   0.694731     0.639921\n",
       "test          0.361103   0.305269     0.360079\n",
       "rowtotal      1.000000   1.000000     1.000000"
      ]
     },
     "execution_count": 15,
     "metadata": {},
     "output_type": "execute_result"
    }
   ],
   "source": [
    "#Crosstab with percentages\n",
    "testbyconv/testbyconv.ix['rowtotal']"
   ]
  },
  {
   "cell_type": "code",
   "execution_count": 16,
   "metadata": {
    "collapsed": false
   },
   "outputs": [
    {
     "data": {
      "text/html": [
       "<div>\n",
       "<table border=\"1\" class=\"dataframe\">\n",
       "  <thead>\n",
       "    <tr style=\"text-align: right;\">\n",
       "      <th>converted</th>\n",
       "      <th>0</th>\n",
       "      <th>1</th>\n",
       "      <th>All</th>\n",
       "    </tr>\n",
       "    <tr>\n",
       "      <th>test</th>\n",
       "      <th></th>\n",
       "      <th></th>\n",
       "      <th></th>\n",
       "    </tr>\n",
       "  </thead>\n",
       "  <tbody>\n",
       "    <tr>\n",
       "      <th>0</th>\n",
       "      <td>0.980096</td>\n",
       "      <td>0.019904</td>\n",
       "      <td>1.0</td>\n",
       "    </tr>\n",
       "    <tr>\n",
       "      <th>1</th>\n",
       "      <td>0.984457</td>\n",
       "      <td>0.015543</td>\n",
       "      <td>1.0</td>\n",
       "    </tr>\n",
       "    <tr>\n",
       "      <th>All</th>\n",
       "      <td>0.981667</td>\n",
       "      <td>0.018333</td>\n",
       "      <td>1.0</td>\n",
       "    </tr>\n",
       "  </tbody>\n",
       "</table>\n",
       "</div>"
      ],
      "text/plain": [
       "converted         0         1  All\n",
       "test                              \n",
       "0          0.980096  0.019904  1.0\n",
       "1          0.984457  0.015543  1.0\n",
       "All        0.981667  0.018333  1.0"
      ]
     },
     "execution_count": 16,
     "metadata": {},
     "output_type": "execute_result"
    }
   ],
   "source": [
    "#Alt way to do percentages\n",
    "def percConv(ser):\n",
    "    return ser/float(ser[-1])\n",
    "    \n",
    "testbyconv2 = pd.crosstab(index=df_merge['test'], \n",
    "                       columns=df_merge['converted'], margins = True).apply(percConv, axis=1)\n",
    "testbyconv2\n",
    "\n",
    "#testbyconv['columntotal']"
   ]
  },
  {
   "cell_type": "code",
   "execution_count": 17,
   "metadata": {
    "collapsed": false
   },
   "outputs": [
    {
     "data": {
      "text/html": [
       "<div>\n",
       "<table border=\"1\" class=\"dataframe\">\n",
       "  <thead>\n",
       "    <tr style=\"text-align: right;\">\n",
       "      <th>converted</th>\n",
       "      <th>0</th>\n",
       "      <th>1</th>\n",
       "    </tr>\n",
       "    <tr>\n",
       "      <th>test</th>\n",
       "      <th></th>\n",
       "      <th></th>\n",
       "    </tr>\n",
       "  </thead>\n",
       "  <tbody>\n",
       "    <tr>\n",
       "      <th>0</th>\n",
       "      <td>198692</td>\n",
       "      <td>4035</td>\n",
       "    </tr>\n",
       "    <tr>\n",
       "      <th>1</th>\n",
       "      <td>112300</td>\n",
       "      <td>1773</td>\n",
       "    </tr>\n",
       "  </tbody>\n",
       "</table>\n",
       "</div>"
      ],
      "text/plain": [
       "converted       0     1\n",
       "test                   \n",
       "0          198692  4035\n",
       "1          112300  1773"
      ]
     },
     "execution_count": 17,
     "metadata": {},
     "output_type": "execute_result"
    }
   ],
   "source": [
    "#Perform a chi-square test for independence to see if the proportion of those who converted differed by test status\n",
    "#H0: Test status and conversion are independent\n",
    "#Ha: Test status and conversion are not independent\n",
    "testbyconv = pd.crosstab(index=df_merge['test'], \n",
    "                       columns=df_merge['converted'])\n",
    "testbyconv"
   ]
  },
  {
   "cell_type": "code",
   "execution_count": 18,
   "metadata": {
    "collapsed": false
   },
   "outputs": [
    {
     "name": "stdout",
     "output_type": "stream",
     "text": [
      "Test Statistic: 76.8949442418\n",
      "p-value: 1.80298084658e-18\n",
      "Degrees of Freedom: 1\n",
      "\n",
      "[[ 199010.33833333    3716.66166667]\n",
      " [ 111981.66166667    2091.33833333]]\n"
     ]
    }
   ],
   "source": [
    "#chi-squared test takes a contingency table as input\n",
    "#print (\"chi-squared test for test status and conversion status\")\n",
    "#conv_chi = scipy.stats.chi2_contingency(testbyconv)\n",
    "#print (conv_chi) #p-value < 0.0001\n",
    "\n",
    "chi2, p, ddof, expected = scipy.stats.chi2_contingency(testbyconv)\n",
    "msg = \"Test Statistic: {}\\np-value: {}\\nDegrees of Freedom: {}\\n\"\n",
    "print( msg.format( chi2, p, ddof ) )\n",
    "print( expected )\n",
    "\n",
    "#values are: x^2, p-value, df, array of expected values"
   ]
  },
  {
   "cell_type": "code",
   "execution_count": 19,
   "metadata": {
    "collapsed": false
   },
   "outputs": [],
   "source": [
    "#Chi-squared won't work because sample size so large. Calculate average revenue/user in both test and nontest group\n",
    "test_conv = df_merge.loc[(df_merge['test'] == 1) & (df_merge['converted'] ==1)]\n",
    "test_noconv = df_merge.loc[(df_merge['test'] == 1) & (df_merge['converted'] ==0)]\n",
    "nontest_conv = df_merge.loc[(df_merge['test'] == 0) & (df_merge['converted'] ==1)]\n",
    "nontest = df_merge.loc[(df_merge['test'] == 0)]\n",
    "test = df_merge.loc[(df_merge['test'] == 1)]\n",
    "#nontest = df_merge.loc[(df_merge[test]==0)]"
   ]
  },
  {
   "cell_type": "code",
   "execution_count": 20,
   "metadata": {
    "collapsed": false
   },
   "outputs": [
    {
     "data": {
      "text/plain": [
       "0.7762409545842438"
      ]
     },
     "execution_count": 20,
     "metadata": {},
     "output_type": "execute_result"
    }
   ],
   "source": [
    "from __future__ import division\n",
    "ratio_conv = len(test_conv)/len(test)\n",
    "ratio_conv*59 #$0.92 average revenue per test user\n",
    "\n",
    "ratio_nonconv= len(nontest_conv)/len(nontest)\n",
    "ratio_nonconv*39 #0.78 average revenue "
   ]
  },
  {
   "cell_type": "code",
   "execution_count": 21,
   "metadata": {
    "collapsed": true
   },
   "outputs": [],
   "source": [
    "nontest_conv = df_merge.loc[(df_merge['test'] == 1) & (df_merge['converted'] ==1)]"
   ]
  },
  {
   "cell_type": "code",
   "execution_count": 22,
   "metadata": {
    "collapsed": false
   },
   "outputs": [
    {
     "data": {
      "text/plain": [
       "1    2015-05-10 21:08:46\n",
       "2    2015-04-04 15:01:23\n",
       "3    2015-05-07 07:26:01\n",
       "4    2015-05-24 11:04:40\n",
       "5    2015-04-13 12:07:08\n",
       "6    2015-03-04 14:45:44\n",
       "7    2015-03-15 08:19:29\n",
       "8    2015-03-28 12:28:10\n",
       "9    2015-04-24 12:42:18\n",
       "Name: timestamp, dtype: object"
      ]
     },
     "execution_count": 22,
     "metadata": {},
     "output_type": "execute_result"
    }
   ],
   "source": [
    "###Now we want to see how long the study was (in terms of days or months)\n",
    "date = df_merge['timestamp']\n",
    "date.dtype\n",
    "date [1:10]"
   ]
  },
  {
   "cell_type": "code",
   "execution_count": 63,
   "metadata": {
    "collapsed": false
   },
   "outputs": [],
   "source": [
    "import datetime\n",
    "import dateutil.parser\n",
    "#There are issues converting dates because some seconds are \"60\" which makes no sense. \n",
    "#For the sake of time, instead of excluding all rows where the %S==60, I am just going to analyze the dates (not time)\n",
    "#df_merge2 = df_merge[df_merge['timestamp'] != '2015-04-24 12:60:46']"
   ]
  },
  {
   "cell_type": "code",
   "execution_count": 64,
   "metadata": {
    "collapsed": false,
    "scrolled": true
   },
   "outputs": [
    {
     "data": {
      "text/plain": [
       "'2015-05-29 01:06:32'"
      ]
     },
     "execution_count": 64,
     "metadata": {},
     "output_type": "execute_result"
    }
   ],
   "source": [
    "#View and sort dates in ascending order\n",
    "date = df_merge['timestamp']\n",
    "date[1:10]\n",
    "date=sorted(date)\n",
    "date[300000]"
   ]
  },
  {
   "cell_type": "code",
   "execution_count": 65,
   "metadata": {
    "collapsed": false
   },
   "outputs": [
    {
     "name": "stdout",
     "output_type": "stream",
     "text": [
      "['2015-03-02' '2015-03-02' '2015-03-02' ..., '2015-05-31' '2015-05-31'\n",
      " '2015-05-31']\n"
     ]
    }
   ],
   "source": [
    "#Create a numpy array so we can convert to datetime object\n",
    "dates = np.genfromtxt(date, delimiter=\" \", usecols=(0), dtype=None)\n",
    "print dates"
   ]
  },
  {
   "cell_type": "code",
   "execution_count": 66,
   "metadata": {
    "collapsed": false,
    "scrolled": true
   },
   "outputs": [],
   "source": [
    "import datetime\n",
    "#convert numpy array time to timestamp\n",
    "#datetime.datetime.strptime(date, \"%Y-%m-%d %H:%M:%S\")\n",
    "#dates_list = [datetime.datetime.strptime(date, \"%Y-%m-%d %H:%M:%S\").date() for date in dates]\n",
    "dates_list = [datetime.datetime.strptime(date, \"%Y-%m-%d\").date() for date in dates]"
   ]
  },
  {
   "cell_type": "code",
   "execution_count": 67,
   "metadata": {
    "collapsed": false
   },
   "outputs": [],
   "source": [
    "#Check with a random date to see why not working -- has to do with 60 seconds (reanalyze just dates)\n",
    "#date1 = [datetime.datetime.strptime('2015-04-24 12:60:46', \"%Y-%m-%d %H:%M:%S\")]"
   ]
  },
  {
   "cell_type": "code",
   "execution_count": 68,
   "metadata": {
    "collapsed": false,
    "scrolled": true
   },
   "outputs": [
    {
     "data": {
      "text/plain": [
       "[datetime.date(2015, 3, 2),\n",
       " datetime.date(2015, 3, 2),\n",
       " datetime.date(2015, 3, 2),\n",
       " datetime.date(2015, 3, 2),\n",
       " datetime.date(2015, 3, 2),\n",
       " datetime.date(2015, 3, 2),\n",
       " datetime.date(2015, 3, 2),\n",
       " datetime.date(2015, 3, 2),\n",
       " datetime.date(2015, 3, 2)]"
      ]
     },
     "execution_count": 68,
     "metadata": {},
     "output_type": "execute_result"
    }
   ],
   "source": [
    "#Check out dates list\n",
    "dates_list[1:10]"
   ]
  },
  {
   "cell_type": "code",
   "execution_count": 69,
   "metadata": {
    "collapsed": false
   },
   "outputs": [
    {
     "data": {
      "text/plain": [
       "datetime.date(2015, 5, 31)"
      ]
     },
     "execution_count": 69,
     "metadata": {},
     "output_type": "execute_result"
    }
   ],
   "source": [
    "#Find oldest datetime\n",
    "oldest = min(dates_list)\n",
    "oldest # 3/2/2015\n",
    "newest = max(dates_list)\n",
    "newest #5/31/2015"
   ]
  },
  {
   "cell_type": "code",
   "execution_count": 70,
   "metadata": {
    "collapsed": false
   },
   "outputs": [
    {
     "name": "stdout",
     "output_type": "stream",
     "text": [
      "90\n"
     ]
    }
   ],
   "source": [
    "#Subtract to find diff to find out length of study\n",
    "delta = newest - oldest # = 90 days\n",
    "print delta.days "
   ]
  },
  {
   "cell_type": "code",
   "execution_count": 71,
   "metadata": {
    "collapsed": false
   },
   "outputs": [
    {
     "data": {
      "text/plain": [
       "104607"
      ]
     },
     "execution_count": 71,
     "metadata": {},
     "output_type": "execute_result"
    }
   ],
   "source": [
    "#Now we want to check out potential revenue based on price change.\n",
    "#Revenue for tests = # test subjects who bought software * 59\n",
    "1773 * 59"
   ]
  },
  {
   "cell_type": "code",
   "execution_count": 72,
   "metadata": {
    "collapsed": false
   },
   "outputs": [
    {
     "data": {
      "text/plain": [
       "157365"
      ]
     },
     "execution_count": 72,
     "metadata": {},
     "output_type": "execute_result"
    }
   ],
   "source": [
    "#Revenue for non-tests = # non-test subjects who bought software * 39\n",
    "4035 * 39"
   ]
  },
  {
   "cell_type": "markdown",
   "metadata": {
    "collapsed": false,
    "scrolled": true
   },
   "source": [
    "### Answer to Question 1: While the chi-squared test for independence showed that test status and conversion status are not independent at alpha=0.05,the sample sizes are quite large likely leading to a significant test despite small differences in the proportions of customers who bought the software between those in the test vs non-test groups. That is, of those who were in the test group (59 dollars), 2.0% converted compared to 1.5% in the control group (39 follars). However, the average revenue per converter was 0.92 per testers and 0.78 per non-testers. Although the amount of potential revenue from the test group was less than that of the non-test group in this time period (104,607 vs. 157,365, respectively),  I would recommend  raising price."
   ]
  },
  {
   "cell_type": "code",
   "execution_count": 74,
   "metadata": {
    "collapsed": false
   },
   "outputs": [
    {
     "data": {
      "text/plain": [
       "direct_traffic     60357\n",
       "ads-google         59379\n",
       "ads_facebook       53396\n",
       "ads_other          29876\n",
       "seo-google         23175\n",
       "ads-bing           22873\n",
       "seo_facebook       21205\n",
       "friend_referral    20695\n",
       "seo-other           9260\n",
       "ads-yahoo           7583\n",
       "seo-yahoo           6848\n",
       "seo-bing            2153\n",
       "Name: source, dtype: int64"
      ]
     },
     "execution_count": 74,
     "metadata": {},
     "output_type": "execute_result"
    }
   ],
   "source": [
    "#Visualize differences in source by those who bought software vs those who didn't\n",
    "#df_merge.loc[(df_merge['test'] == 0) & (df_merge['price'] != 39), 'price'] = 39\n",
    "source = pd.DataFrame(df_merge['source'])\n",
    "df_merge.head()\n",
    "df_merge['source']\n",
    "pd.value_counts(df_merge.source)"
   ]
  },
  {
   "cell_type": "code",
   "execution_count": 75,
   "metadata": {
    "collapsed": false
   },
   "outputs": [
    {
     "data": {
      "text/html": [
       "<div>\n",
       "<table border=\"1\" class=\"dataframe\">\n",
       "  <thead>\n",
       "    <tr style=\"text-align: right;\">\n",
       "      <th>source</th>\n",
       "      <th>ads-bing</th>\n",
       "      <th>ads-google</th>\n",
       "      <th>ads-yahoo</th>\n",
       "      <th>ads_facebook</th>\n",
       "      <th>ads_other</th>\n",
       "      <th>direct_traffic</th>\n",
       "      <th>friend_referral</th>\n",
       "      <th>seo-bing</th>\n",
       "      <th>seo-google</th>\n",
       "      <th>seo-other</th>\n",
       "      <th>seo-yahoo</th>\n",
       "      <th>seo_facebook</th>\n",
       "      <th>All</th>\n",
       "    </tr>\n",
       "    <tr>\n",
       "      <th>converted</th>\n",
       "      <th></th>\n",
       "      <th></th>\n",
       "      <th></th>\n",
       "      <th></th>\n",
       "      <th></th>\n",
       "      <th></th>\n",
       "      <th></th>\n",
       "      <th></th>\n",
       "      <th></th>\n",
       "      <th></th>\n",
       "      <th></th>\n",
       "      <th></th>\n",
       "      <th></th>\n",
       "    </tr>\n",
       "  </thead>\n",
       "  <tbody>\n",
       "    <tr>\n",
       "      <th>0</th>\n",
       "      <td>22599</td>\n",
       "      <td>58103</td>\n",
       "      <td>7471</td>\n",
       "      <td>52264</td>\n",
       "      <td>29447</td>\n",
       "      <td>59614</td>\n",
       "      <td>19894</td>\n",
       "      <td>2102</td>\n",
       "      <td>22781</td>\n",
       "      <td>9115</td>\n",
       "      <td>6737</td>\n",
       "      <td>20865</td>\n",
       "      <td>310992</td>\n",
       "    </tr>\n",
       "    <tr>\n",
       "      <th>1</th>\n",
       "      <td>274</td>\n",
       "      <td>1276</td>\n",
       "      <td>112</td>\n",
       "      <td>1132</td>\n",
       "      <td>429</td>\n",
       "      <td>743</td>\n",
       "      <td>801</td>\n",
       "      <td>51</td>\n",
       "      <td>394</td>\n",
       "      <td>145</td>\n",
       "      <td>111</td>\n",
       "      <td>340</td>\n",
       "      <td>5808</td>\n",
       "    </tr>\n",
       "    <tr>\n",
       "      <th>All</th>\n",
       "      <td>22873</td>\n",
       "      <td>59379</td>\n",
       "      <td>7583</td>\n",
       "      <td>53396</td>\n",
       "      <td>29876</td>\n",
       "      <td>60357</td>\n",
       "      <td>20695</td>\n",
       "      <td>2153</td>\n",
       "      <td>23175</td>\n",
       "      <td>9260</td>\n",
       "      <td>6848</td>\n",
       "      <td>21205</td>\n",
       "      <td>316800</td>\n",
       "    </tr>\n",
       "  </tbody>\n",
       "</table>\n",
       "</div>"
      ],
      "text/plain": [
       "source     ads-bing  ads-google  ads-yahoo  ads_facebook  ads_other  \\\n",
       "converted                                                             \n",
       "0             22599       58103       7471         52264      29447   \n",
       "1               274        1276        112          1132        429   \n",
       "All           22873       59379       7583         53396      29876   \n",
       "\n",
       "source     direct_traffic  friend_referral  seo-bing  seo-google  seo-other  \\\n",
       "converted                                                                     \n",
       "0                   59614            19894      2102       22781       9115   \n",
       "1                     743              801        51         394        145   \n",
       "All                 60357            20695      2153       23175       9260   \n",
       "\n",
       "source     seo-yahoo  seo_facebook     All  \n",
       "converted                                   \n",
       "0               6737         20865  310992  \n",
       "1                111           340    5808  \n",
       "All             6848         21205  316800  "
      ]
     },
     "execution_count": 75,
     "metadata": {},
     "output_type": "execute_result"
    }
   ],
   "source": [
    "convbysource = pd.crosstab(index=df_merge['converted'], \n",
    "                      columns=df_merge['source'], margins = True)\n",
    "convbysource #N>100 per cell so OK with using chi-squared vs fisher's exact test"
   ]
  },
  {
   "cell_type": "code",
   "execution_count": 76,
   "metadata": {
    "collapsed": false
   },
   "outputs": [],
   "source": [
    "#convbysource[-1:]\n",
    "#df_source = pd.DataFrame(df_merge['source']) \n",
    "#df_source\n",
    "#df_source = pd.DataFrame(pd.value_counts(df_merge['source']))\n",
    "#values = df_source['source']\n",
    "%matplotlib inline\n",
    "import matplotlib.pyplot as plt\n",
    "from collections import Counter\n",
    "\n",
    "#source = df_merge['source']\n",
    "#c_source = Counter (source)\n",
    "#c_source\n",
    "\n",
    "#Create bar chart of sources for overall population\n",
    "#CountStatus = pd.value_counts(df_merge['source'].values, sort=True)\n",
    "#CountStatus\n",
    "#bar1 = CountStatus.plot.barh(color = \"blue\")\n",
    "#bar1"
   ]
  },
  {
   "cell_type": "code",
   "execution_count": 40,
   "metadata": {
    "collapsed": false
   },
   "outputs": [
    {
     "data": {
      "text/plain": [
       "5808"
      ]
     },
     "execution_count": 40,
     "metadata": {},
     "output_type": "execute_result"
    }
   ],
   "source": [
    "#Create dataset for only those who bought software\n",
    "df_bought= df_merge[df_merge.converted == 1]\n",
    "len(df_bought)#5808"
   ]
  },
  {
   "cell_type": "code",
   "execution_count": 44,
   "metadata": {
    "collapsed": false
   },
   "outputs": [
    {
     "data": {
      "text/html": [
       "<div>\n",
       "<table border=\"1\" class=\"dataframe\">\n",
       "  <thead>\n",
       "    <tr style=\"text-align: right;\">\n",
       "      <th></th>\n",
       "      <th>user_id</th>\n",
       "      <th>test</th>\n",
       "      <th>price</th>\n",
       "      <th>converted</th>\n",
       "      <th>lat</th>\n",
       "      <th>long</th>\n",
       "    </tr>\n",
       "    <tr>\n",
       "      <th>source</th>\n",
       "      <th></th>\n",
       "      <th></th>\n",
       "      <th></th>\n",
       "      <th></th>\n",
       "      <th></th>\n",
       "      <th></th>\n",
       "    </tr>\n",
       "  </thead>\n",
       "  <tbody>\n",
       "    <tr>\n",
       "      <th>seo-bing</th>\n",
       "      <td>1073710646</td>\n",
       "      <td>819</td>\n",
       "      <td>100347</td>\n",
       "      <td>51</td>\n",
       "      <td>69067.74</td>\n",
       "      <td>-176176.73</td>\n",
       "    </tr>\n",
       "    <tr>\n",
       "      <th>seo-yahoo</th>\n",
       "      <td>3399273022</td>\n",
       "      <td>2485</td>\n",
       "      <td>316772</td>\n",
       "      <td>111</td>\n",
       "      <td>220667.11</td>\n",
       "      <td>-564274.37</td>\n",
       "    </tr>\n",
       "    <tr>\n",
       "      <th>ads-yahoo</th>\n",
       "      <td>3740473369</td>\n",
       "      <td>2765</td>\n",
       "      <td>351037</td>\n",
       "      <td>112</td>\n",
       "      <td>244846.91</td>\n",
       "      <td>-617042.88</td>\n",
       "    </tr>\n",
       "    <tr>\n",
       "      <th>seo-other</th>\n",
       "      <td>4639256004</td>\n",
       "      <td>3371</td>\n",
       "      <td>428560</td>\n",
       "      <td>145</td>\n",
       "      <td>299058.07</td>\n",
       "      <td>-754246.96</td>\n",
       "    </tr>\n",
       "    <tr>\n",
       "      <th>ads-bing</th>\n",
       "      <td>11350101366</td>\n",
       "      <td>8264</td>\n",
       "      <td>1057327</td>\n",
       "      <td>274</td>\n",
       "      <td>738893.80</td>\n",
       "      <td>-1869869.86</td>\n",
       "    </tr>\n",
       "    <tr>\n",
       "      <th>seo_facebook</th>\n",
       "      <td>10640643903</td>\n",
       "      <td>7734</td>\n",
       "      <td>981675</td>\n",
       "      <td>340</td>\n",
       "      <td>686517.45</td>\n",
       "      <td>-1731933.36</td>\n",
       "    </tr>\n",
       "    <tr>\n",
       "      <th>seo-google</th>\n",
       "      <td>11621173519</td>\n",
       "      <td>8073</td>\n",
       "      <td>1065285</td>\n",
       "      <td>394</td>\n",
       "      <td>747945.33</td>\n",
       "      <td>-1893251.48</td>\n",
       "    </tr>\n",
       "    <tr>\n",
       "      <th>ads_other</th>\n",
       "      <td>14877628186</td>\n",
       "      <td>10592</td>\n",
       "      <td>1377004</td>\n",
       "      <td>429</td>\n",
       "      <td>969079.65</td>\n",
       "      <td>-2453512.48</td>\n",
       "    </tr>\n",
       "    <tr>\n",
       "      <th>direct_traffic</th>\n",
       "      <td>30198186130</td>\n",
       "      <td>21598</td>\n",
       "      <td>2785883</td>\n",
       "      <td>743</td>\n",
       "      <td>1950769.42</td>\n",
       "      <td>-4936559.32</td>\n",
       "    </tr>\n",
       "    <tr>\n",
       "      <th>friend_referral</th>\n",
       "      <td>10329954300</td>\n",
       "      <td>7560</td>\n",
       "      <td>958305</td>\n",
       "      <td>801</td>\n",
       "      <td>668336.43</td>\n",
       "      <td>-1690802.08</td>\n",
       "    </tr>\n",
       "    <tr>\n",
       "      <th>ads_facebook</th>\n",
       "      <td>26685795141</td>\n",
       "      <td>19297</td>\n",
       "      <td>2468384</td>\n",
       "      <td>1132</td>\n",
       "      <td>1719351.53</td>\n",
       "      <td>-4365160.90</td>\n",
       "    </tr>\n",
       "    <tr>\n",
       "      <th>ads-google</th>\n",
       "      <td>29616133509</td>\n",
       "      <td>21515</td>\n",
       "      <td>2746081</td>\n",
       "      <td>1276</td>\n",
       "      <td>1914039.43</td>\n",
       "      <td>-4850049.57</td>\n",
       "    </tr>\n",
       "  </tbody>\n",
       "</table>\n",
       "</div>"
      ],
      "text/plain": [
       "                     user_id   test    price  converted         lat  \\\n",
       "source                                                                \n",
       "seo-bing          1073710646    819   100347         51    69067.74   \n",
       "seo-yahoo         3399273022   2485   316772        111   220667.11   \n",
       "ads-yahoo         3740473369   2765   351037        112   244846.91   \n",
       "seo-other         4639256004   3371   428560        145   299058.07   \n",
       "ads-bing         11350101366   8264  1057327        274   738893.80   \n",
       "seo_facebook     10640643903   7734   981675        340   686517.45   \n",
       "seo-google       11621173519   8073  1065285        394   747945.33   \n",
       "ads_other        14877628186  10592  1377004        429   969079.65   \n",
       "direct_traffic   30198186130  21598  2785883        743  1950769.42   \n",
       "friend_referral  10329954300   7560   958305        801   668336.43   \n",
       "ads_facebook     26685795141  19297  2468384       1132  1719351.53   \n",
       "ads-google       29616133509  21515  2746081       1276  1914039.43   \n",
       "\n",
       "                       long  \n",
       "source                       \n",
       "seo-bing         -176176.73  \n",
       "seo-yahoo        -564274.37  \n",
       "ads-yahoo        -617042.88  \n",
       "seo-other        -754246.96  \n",
       "ads-bing        -1869869.86  \n",
       "seo_facebook    -1731933.36  \n",
       "seo-google      -1893251.48  \n",
       "ads_other       -2453512.48  \n",
       "direct_traffic  -4936559.32  \n",
       "friend_referral -1690802.08  \n",
       "ads_facebook    -4365160.90  \n",
       "ads-google      -4850049.57  "
      ]
     },
     "execution_count": 44,
     "metadata": {},
     "output_type": "execute_result"
    }
   ],
   "source": [
    "source_sum = df_merge.groupby('source').sum().sort_values(by='converted')\n",
    "source_sum"
   ]
  },
  {
   "cell_type": "code",
   "execution_count": 46,
   "metadata": {
    "collapsed": false
   },
   "outputs": [
    {
     "data": {
      "text/plain": [
       "<matplotlib.text.Text at 0x7f9462552990>"
      ]
     },
     "execution_count": 46,
     "metadata": {},
     "output_type": "execute_result"
    },
    {
     "data": {
      "image/png": "[encoded data removed]",
      "text/plain": [
       "<matplotlib.figure.Figure at 0x7f94625be650>"
      ]
     },
     "metadata": {},
     "output_type": "display_data"
    }
   ],
   "source": [
    "#Plot distribution for converters\n",
    "CountStatus2 = pd.value_counts(df_bought['source'].values, sort=True)\n",
    "CountStatus2 [0:13]\n",
    "\n",
    "#plt.rcdefaults()\n",
    "fig, ax = plt.subplots()\n",
    "bar2 = CountStatus2.plot.barh(color = \"green\")\n",
    "ax.set_title(\"Distribution of Sources Among Converters\")"
   ]
  },
  {
   "cell_type": "code",
   "execution_count": 79,
   "metadata": {
    "collapsed": false
   },
   "outputs": [
    {
     "data": {
      "text/html": [
       "<div>\n",
       "<table border=\"1\" class=\"dataframe\">\n",
       "  <thead>\n",
       "    <tr style=\"text-align: right;\">\n",
       "      <th></th>\n",
       "      <th>counts</th>\n",
       "      <th>proportion</th>\n",
       "    </tr>\n",
       "  </thead>\n",
       "  <tbody>\n",
       "    <tr>\n",
       "      <th>ads-google</th>\n",
       "      <td>1276</td>\n",
       "      <td>21.969697</td>\n",
       "    </tr>\n",
       "    <tr>\n",
       "      <th>ads_facebook</th>\n",
       "      <td>1132</td>\n",
       "      <td>19.490358</td>\n",
       "    </tr>\n",
       "    <tr>\n",
       "      <th>friend_referral</th>\n",
       "      <td>801</td>\n",
       "      <td>13.791322</td>\n",
       "    </tr>\n",
       "    <tr>\n",
       "      <th>direct_traffic</th>\n",
       "      <td>743</td>\n",
       "      <td>12.792700</td>\n",
       "    </tr>\n",
       "    <tr>\n",
       "      <th>ads_other</th>\n",
       "      <td>429</td>\n",
       "      <td>7.386364</td>\n",
       "    </tr>\n",
       "    <tr>\n",
       "      <th>seo-google</th>\n",
       "      <td>394</td>\n",
       "      <td>6.783747</td>\n",
       "    </tr>\n",
       "    <tr>\n",
       "      <th>seo_facebook</th>\n",
       "      <td>340</td>\n",
       "      <td>5.853994</td>\n",
       "    </tr>\n",
       "    <tr>\n",
       "      <th>ads-bing</th>\n",
       "      <td>274</td>\n",
       "      <td>4.717631</td>\n",
       "    </tr>\n",
       "    <tr>\n",
       "      <th>seo-other</th>\n",
       "      <td>145</td>\n",
       "      <td>2.496556</td>\n",
       "    </tr>\n",
       "    <tr>\n",
       "      <th>ads-yahoo</th>\n",
       "      <td>112</td>\n",
       "      <td>1.928375</td>\n",
       "    </tr>\n",
       "    <tr>\n",
       "      <th>seo-yahoo</th>\n",
       "      <td>111</td>\n",
       "      <td>1.911157</td>\n",
       "    </tr>\n",
       "    <tr>\n",
       "      <th>seo-bing</th>\n",
       "      <td>51</td>\n",
       "      <td>0.878099</td>\n",
       "    </tr>\n",
       "  </tbody>\n",
       "</table>\n",
       "</div>"
      ],
      "text/plain": [
       "                 counts  proportion\n",
       "ads-google         1276   21.969697\n",
       "ads_facebook       1132   19.490358\n",
       "friend_referral     801   13.791322\n",
       "direct_traffic      743   12.792700\n",
       "ads_other           429    7.386364\n",
       "seo-google          394    6.783747\n",
       "seo_facebook        340    5.853994\n",
       "ads-bing            274    4.717631\n",
       "seo-other           145    2.496556\n",
       "ads-yahoo           112    1.928375\n",
       "seo-yahoo           111    1.911157\n",
       "seo-bing             51    0.878099"
      ]
     },
     "execution_count": 79,
     "metadata": {},
     "output_type": "execute_result"
    }
   ],
   "source": [
    "#See exact percentage of sources for converters\n",
    "myseries2 = df_bought['source']\n",
    "counts = myseries2.value_counts()\n",
    "percent = (counts/len(df_bought['source']))*100\n",
    "test4 = pd.concat([counts, percent], axis=1)\n",
    "test4.columns = ['counts','proportion']\n",
    "test4"
   ]
  },
  {
   "cell_type": "code",
   "execution_count": 80,
   "metadata": {
    "collapsed": false
   },
   "outputs": [
    {
     "data": {
      "text/plain": [
       "310992"
      ]
     },
     "execution_count": 80,
     "metadata": {},
     "output_type": "execute_result"
    }
   ],
   "source": [
    "#Create dataset for only those who did not buy software\n",
    "df_nobought= df_merge[df_merge.converted == 0]\n",
    "len(df_nobought)#310992"
   ]
  },
  {
   "cell_type": "code",
   "execution_count": 82,
   "metadata": {
    "collapsed": false,
    "scrolled": false
   },
   "outputs": [
    {
     "data": {
      "text/plain": [
       "<matplotlib.text.Text at 0x7f330b074110>"
      ]
     },
     "execution_count": 82,
     "metadata": {},
     "output_type": "execute_result"
    },
    {
     "data": {
      "image/png": "[encoded data removed]",
      "text/plain": [
       "<matplotlib.figure.Figure at 0x7f33065d1550>"
      ]
     },
     "metadata": {},
     "output_type": "display_data"
    }
   ],
   "source": [
    "#Plot distribution of source for non-converters\n",
    "%matplotlib inline\n",
    "CountStatus3 = pd.value_counts(df_nobought['source'].values, sort=True)\n",
    "#CountStatus3 [0:13]\n",
    "#plt.rcdefaults()\n",
    "fig, ax = plt.subplots()\n",
    "bar3 = CountStatus3.plot.barh(color = \"red\")\n",
    "ax.set_title(\"Distribution of Sources Among Non-Converters\")\n",
    "#sns.countplot(y=\"source\", data=df_merged)"
   ]
  },
  {
   "cell_type": "code",
   "execution_count": 83,
   "metadata": {
    "collapsed": false
   },
   "outputs": [
    {
     "data": {
      "text/plain": [
       "<matplotlib.text.Text at 0x7f330af6e750>"
      ]
     },
     "execution_count": 83,
     "metadata": {},
     "output_type": "execute_result"
    },
    {
     "data": {
      "image/png": "[encoded data removed]",
      "text/plain": [
       "<matplotlib.figure.Figure at 0x7f33065d1f50>"
      ]
     },
     "metadata": {},
     "output_type": "display_data"
    }
   ],
   "source": [
    "###Try another method of plotting bar plot using seaborn\n",
    "#sns.countplot(x=\"device\", data=df_merge, hue = \"converted\");\n",
    "%matplotlib inline\n",
    "#df_new = df_merge[['source','converted']]\n",
    "#df_new\n",
    "#sns.barplot(data = df_new)\n",
    "\n",
    "sns.countplot(y=\"source\", hue=\"device\", data=df_bought)\n",
    "plt.title('Distribution of Sources by Device Usage Among Converters')"
   ]
  },
  {
   "cell_type": "code",
   "execution_count": 114,
   "metadata": {
    "collapsed": false
   },
   "outputs": [
    {
     "data": {
      "text/html": [
       "<div>\n",
       "<table border=\"1\" class=\"dataframe\">\n",
       "  <thead>\n",
       "    <tr style=\"text-align: right;\">\n",
       "      <th></th>\n",
       "      <th>counts</th>\n",
       "      <th>proportion</th>\n",
       "    </tr>\n",
       "  </thead>\n",
       "  <tbody>\n",
       "    <tr>\n",
       "      <th>mobile</th>\n",
       "      <td>3460</td>\n",
       "      <td>59.573003</td>\n",
       "    </tr>\n",
       "    <tr>\n",
       "      <th>web</th>\n",
       "      <td>2348</td>\n",
       "      <td>40.426997</td>\n",
       "    </tr>\n",
       "  </tbody>\n",
       "</table>\n",
       "</div>"
      ],
      "text/plain": [
       "        counts  proportion\n",
       "mobile    3460   59.573003\n",
       "web       2348   40.426997"
      ]
     },
     "execution_count": 114,
     "metadata": {},
     "output_type": "execute_result"
    }
   ],
   "source": [
    "#See exact percentage of mobile devices for converters\n",
    "myseries3 = df_bought['device']\n",
    "counts = myseries3.value_counts()\n",
    "percent = (counts/len(df_bought['device']))*100\n",
    "test5 = pd.concat([counts, percent], axis=1)\n",
    "test5.columns = ['counts','proportion']\n",
    "test5"
   ]
  },
  {
   "cell_type": "code",
   "execution_count": 115,
   "metadata": {
    "collapsed": false
   },
   "outputs": [
    {
     "data": {
      "text/plain": [
       "mobile    3460\n",
       "web       2348\n",
       "Name: device, dtype: int64"
      ]
     },
     "execution_count": 115,
     "metadata": {},
     "output_type": "execute_result"
    }
   ],
   "source": [
    "#check to make sure numbers in above table match\n",
    "pd.value_counts(df_bought.device)"
   ]
  },
  {
   "cell_type": "code",
   "execution_count": 72,
   "metadata": {
    "collapsed": false
   },
   "outputs": [
    {
     "data": {
      "text/plain": [
       "USA    275616\n",
       "Name: country, dtype: int64"
      ]
     },
     "execution_count": 72,
     "metadata": {},
     "output_type": "execute_result"
    }
   ],
   "source": [
    "df_no_missing = df_merge.dropna()\n",
    "df_no_missing.head()\n",
    "df_no_missing['country']\n",
    "pd.value_counts(df_no_missing.country) #all buyers are from US"
   ]
  },
  {
   "cell_type": "code",
   "execution_count": 118,
   "metadata": {
    "collapsed": false
   },
   "outputs": [
    {
     "data": {
      "text/html": [
       "<div>\n",
       "<table border=\"1\" class=\"dataframe\">\n",
       "  <thead>\n",
       "    <tr style=\"text-align: right;\">\n",
       "      <th></th>\n",
       "      <th>counts</th>\n",
       "      <th>proportion</th>\n",
       "    </tr>\n",
       "  </thead>\n",
       "  <tbody>\n",
       "    <tr>\n",
       "      <th>New York</th>\n",
       "      <td>443</td>\n",
       "      <td>8.826459</td>\n",
       "    </tr>\n",
       "    <tr>\n",
       "      <th>Houston</th>\n",
       "      <td>120</td>\n",
       "      <td>2.390915</td>\n",
       "    </tr>\n",
       "    <tr>\n",
       "      <th>Chicago</th>\n",
       "      <td>101</td>\n",
       "      <td>2.012353</td>\n",
       "    </tr>\n",
       "    <tr>\n",
       "      <th>San Antonio</th>\n",
       "      <td>85</td>\n",
       "      <td>1.693564</td>\n",
       "    </tr>\n",
       "    <tr>\n",
       "      <th>Los Angeles</th>\n",
       "      <td>79</td>\n",
       "      <td>1.574019</td>\n",
       "    </tr>\n",
       "    <tr>\n",
       "      <th>Austin</th>\n",
       "      <td>63</td>\n",
       "      <td>1.255230</td>\n",
       "    </tr>\n",
       "    <tr>\n",
       "      <th>San Jose</th>\n",
       "      <td>58</td>\n",
       "      <td>1.155609</td>\n",
       "    </tr>\n",
       "    <tr>\n",
       "      <th>Philadelphia</th>\n",
       "      <td>46</td>\n",
       "      <td>0.916517</td>\n",
       "    </tr>\n",
       "    <tr>\n",
       "      <th>Jacksonville</th>\n",
       "      <td>45</td>\n",
       "      <td>0.896593</td>\n",
       "    </tr>\n",
       "    <tr>\n",
       "      <th>Indianapolis</th>\n",
       "      <td>45</td>\n",
       "      <td>0.896593</td>\n",
       "    </tr>\n",
       "  </tbody>\n",
       "</table>\n",
       "</div>"
      ],
      "text/plain": [
       "              counts  proportion\n",
       "New York         443    8.826459\n",
       "Houston          120    2.390915\n",
       "Chicago          101    2.012353\n",
       "San Antonio       85    1.693564\n",
       "Los Angeles       79    1.574019\n",
       "Austin            63    1.255230\n",
       "San Jose          58    1.155609\n",
       "Philadelphia      46    0.916517\n",
       "Jacksonville      45    0.896593\n",
       "Indianapolis      45    0.896593"
      ]
     },
     "execution_count": 118,
     "metadata": {},
     "output_type": "execute_result"
    }
   ],
   "source": [
    "#Create a frequency table showing the proportion and counts\n",
    "df_bought_nomiss = df_no_missing.loc[(df_no_missing['converted'] == 1)]\n",
    "myseries = df_bought_nomiss['city']\n",
    "counts = myseries.value_counts()\n",
    "len(df_bought_nomiss['city'])\n",
    "percent = (counts/5019)*100\n",
    "test3 = pd.concat([counts, percent], axis=1)\n",
    "test3.columns = ['counts','proportion']\n",
    "test3[:10] #9% of those who converted were from NYC, followed by Houston and Chicago at 2% each"
   ]
  },
  {
   "cell_type": "markdown",
   "metadata": {
    "collapsed": false
   },
   "source": [
    "### Answer to Question 2: Overall, those who bought the software accessed the site in the United States, with the majority of users in New York City (8.8%), Houston (2.4%), and Chicago (2.0%). Users predominately accessed the site using mobile devices (59%), and came to the site mostly via ads such as those on Google (22%) and Facebook (19%). Friend referral (14%) as well as direct traffic (13%) were other top sources for those who bought the software."
   ]
  },
  {
   "cell_type": "code",
   "execution_count": 55,
   "metadata": {
    "collapsed": false
   },
   "outputs": [
    {
     "name": "stdout",
     "output_type": "stream",
     "text": [
      "14098\n"
     ]
    }
   ],
   "source": [
    "###Calculate sample number needed to detect significant difference between p1=0.0155 and p2=0.0199 at alpha=0.05 and beta=0.8\n",
    "\n",
    "from scipy.stats import norm, zscore\n",
    "\n",
    "def sample_power_probtest(p1, p2, power=0.8, sig=0.05):\n",
    "    z = norm.isf([sig/2]) #two-sided t test\n",
    "    zp = -1 * norm.isf([power]) \n",
    "    d = (p1-p2)\n",
    "    s =2*((p1+p2) /2)*(1-((p1+p2) /2))\n",
    "    n = s * ((zp + z)**2) / (d**2)\n",
    "    return int(round(n[0]))\n",
    "\n",
    "def sample_power_difftest(d, s, power=0.8, sig=0.05):\n",
    "    z = norm.isf([sig/2])\n",
    "    zp = -1 * norm.isf([power])\n",
    "    n = s * ((zp + z)**2) / (d**2)\n",
    "    return int(round(n[0]))\n",
    "\n",
    "if __name__ == '__main__':\n",
    "\n",
    "    n = sample_power_probtest(0.0155, 0.0199, power=0.8, sig=0.05)\n",
    "    print n  #14098\n"
   ]
  },
  {
   "cell_type": "markdown",
   "metadata": {
    "collapsed": false
   },
   "source": [
    "### Bonus: If only based on conversion rate, the study could have ended earlier based on the power analysis. However, this problem is a bit more complicated in that the average revenue per person must be greater in non-testers vs testers. I would recalculate the power with this in mind if I had more time."
   ]
  }
 ],
 "metadata": {
  "anaconda-cloud": {},
  "kernelspec": {
   "display_name": "Python [conda env:my_projects_env]",
   "language": "python",
   "name": "conda-env-my_projects_env-py"
  },
  "language_info": {
   "codemirror_mode": {
    "name": "ipython",
    "version": 2
   },
   "file_extension": ".py",
   "mimetype": "text/x-python",
   "name": "python",
   "nbconvert_exporter": "python",
   "pygments_lexer": "ipython2",
   "version": "2.7.12"
  }
 },
 "nbformat": 4,
 "nbformat_minor": 1
}
